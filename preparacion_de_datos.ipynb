{
 "cells": [
  {
   "cell_type": "markdown",
   "id": "8c827338",
   "metadata": {},
   "source": [
    "<p><img height=\"45px\" src=\"https://drive.google.com/uc?id=1aJx1i5ecv6L6R5zUqK_ry6vuDnBDmprd\"align=\"left\" hspace=\"10px\" vspace=\"0px\"></p>\n",
    "\n",
    "<h1> PREPARACION DE LOS DATOS </h1>\n",
    "<br>"
   ]
  },
  {
   "cell_type": "markdown",
   "id": "c510a454",
   "metadata": {},
   "source": [
    "La preparación de datos en Machine Learning (ML) es el proceso esencial de transformar datos brutos en un formato limpio, organizado y estructurado, listo para ser utilizado por los algoritmos de ML. Este proceso, que incluye recopilación, limpieza, transformación, codificación de variables categóricas, y estandarización, es fundamental para asegurar modelos más precisos, un entrenamiento más rápido y mejores predicciones. "
   ]
  },
  {
   "cell_type": "markdown",
   "id": "b3503813",
   "metadata": {},
   "source": [
    "Por: Deibi Flavio Bastidas Ceron\n",
    "\n",
    "Presentado a: José Armando Ordoñez Cordoba"
   ]
  },
  {
   "cell_type": "code",
   "execution_count": 1,
   "id": "87fe7c14",
   "metadata": {},
   "outputs": [],
   "source": [
    "# Importamos las librerías\n",
    "import pandas as pd\n",
    "import numpy as np\n",
    "from scipy import stats\n",
    "import matplotlib.pyplot as plt\n",
    "from matplotlib import rcParams\n",
    "import seaborn as sns\n",
    "import statistics as stat"
   ]
  },
  {
   "cell_type": "code",
   "execution_count": 2,
   "id": "4d0c917a",
   "metadata": {},
   "outputs": [],
   "source": [
    "# Cargamso el dataset\n",
    "url = 'bike data.csv'\n",
    "data = pd.read_csv(url)"
   ]
  },
  {
   "cell_type": "code",
   "execution_count": 3,
   "id": "9e0e1c5d",
   "metadata": {},
   "outputs": [],
   "source": [
    "# Convertimos el dataset en dataframe\n",
    "df = pd.DataFrame(data)"
   ]
  },
  {
   "cell_type": "code",
   "execution_count": 4,
   "id": "b89f26d6",
   "metadata": {},
   "outputs": [],
   "source": [
    "# Creamos la variable target y la rellenamos de acuerdo a los valores definidos en la pregunta SMART\n",
    "# porsentaje de profit >= al 40% es 1 y < al 40% es 0\n",
    "\n",
    "df['target'] = ((((df['Unit Price']-df['Unit Cost']) /df['Unit Cost']) * 100) >= 40).astype('int')"
   ]
  },
  {
   "cell_type": "code",
   "execution_count": 5,
   "id": "8674f2bb",
   "metadata": {},
   "outputs": [
    {
     "data": {
      "application/vnd.microsoft.datawrangler.viewer.v0+json": {
       "columns": [
        {
         "name": "index",
         "rawType": "int64",
         "type": "integer"
        },
        {
         "name": "Date",
         "rawType": "object",
         "type": "string"
        },
        {
         "name": "year",
         "rawType": "int64",
         "type": "integer"
        },
        {
         "name": "Customer ID",
         "rawType": "int64",
         "type": "integer"
        },
        {
         "name": "Customer Age",
         "rawType": "int64",
         "type": "integer"
        },
        {
         "name": "Age Group",
         "rawType": "object",
         "type": "string"
        },
        {
         "name": "Customer Gender",
         "rawType": "object",
         "type": "string"
        },
        {
         "name": "Country",
         "rawType": "object",
         "type": "string"
        },
        {
         "name": "State",
         "rawType": "object",
         "type": "string"
        },
        {
         "name": "Product Category",
         "rawType": "object",
         "type": "string"
        },
        {
         "name": "Sub Category",
         "rawType": "object",
         "type": "string"
        },
        {
         "name": "Product",
         "rawType": "object",
         "type": "string"
        },
        {
         "name": "Frame Size",
         "rawType": "float64",
         "type": "float"
        },
        {
         "name": "Order Quantity",
         "rawType": "int64",
         "type": "integer"
        },
        {
         "name": "Unit Cost",
         "rawType": "int64",
         "type": "integer"
        },
        {
         "name": "Unit Price",
         "rawType": "int64",
         "type": "integer"
        },
        {
         "name": "Cost",
         "rawType": "int64",
         "type": "integer"
        },
        {
         "name": "Revenue",
         "rawType": "int64",
         "type": "integer"
        },
        {
         "name": "Profit",
         "rawType": "int64",
         "type": "integer"
        },
        {
         "name": "target",
         "rawType": "int64",
         "type": "integer"
        }
       ],
       "ref": "d75befd5-ed30-49cf-8ff7-95208a8db583",
       "rows": [
        [
         "0",
         "11/26/2013",
         "2013",
         "11019",
         "19",
         "Youth (<25)",
         "M",
         "Canada",
         "British Columbia",
         "Accessories",
         "Bike Racks",
         "Hitch Rack - 4-Bike",
         null,
         "8",
         "45",
         "120",
         "360",
         "950",
         "590",
         "1"
        ],
        [
         "1",
         "11/26/2015",
         "2015",
         "11019",
         "19",
         "Youth (<25)",
         "M",
         "Canada",
         "British Columbia",
         "Accessories",
         "Bike Racks",
         "Hitch Rack - 4-Bike",
         null,
         "8",
         "45",
         "120",
         "360",
         "950",
         "590",
         "1"
        ],
        [
         "2",
         "3/23/2014",
         "2014",
         "11039",
         "49",
         "Adults (35-64)",
         "M",
         "Australia",
         "New South Wales",
         "Accessories",
         "Bike Racks",
         "Hitch Rack - 4-Bike",
         null,
         "23",
         "45",
         "120",
         "1035",
         "2401",
         "1366",
         "1"
        ],
        [
         "3",
         "3/23/2016",
         "2016",
         "11039",
         "49",
         "Adults (35-64)",
         "M",
         "Australia",
         "New South Wales",
         "Accessories",
         "Bike Racks",
         "Hitch Rack - 4-Bike",
         null,
         "20",
         "45",
         "120",
         "900",
         "2088",
         "1188",
         "1"
        ],
        [
         "4",
         "5/15/2014",
         "2014",
         "11046",
         "47",
         "Adults (35-64)",
         "F",
         "Australia",
         "New South Wales",
         "Accessories",
         "Bike Racks",
         "Hitch Rack - 4-Bike",
         null,
         "4",
         "45",
         "120",
         "180",
         "418",
         "238",
         "1"
        ]
       ],
       "shape": {
        "columns": 19,
        "rows": 5
       }
      },
      "text/html": [
       "<div>\n",
       "<style scoped>\n",
       "    .dataframe tbody tr th:only-of-type {\n",
       "        vertical-align: middle;\n",
       "    }\n",
       "\n",
       "    .dataframe tbody tr th {\n",
       "        vertical-align: top;\n",
       "    }\n",
       "\n",
       "    .dataframe thead th {\n",
       "        text-align: right;\n",
       "    }\n",
       "</style>\n",
       "<table border=\"1\" class=\"dataframe\">\n",
       "  <thead>\n",
       "    <tr style=\"text-align: right;\">\n",
       "      <th></th>\n",
       "      <th>Date</th>\n",
       "      <th>year</th>\n",
       "      <th>Customer ID</th>\n",
       "      <th>Customer Age</th>\n",
       "      <th>Age Group</th>\n",
       "      <th>Customer Gender</th>\n",
       "      <th>Country</th>\n",
       "      <th>State</th>\n",
       "      <th>Product Category</th>\n",
       "      <th>Sub Category</th>\n",
       "      <th>Product</th>\n",
       "      <th>Frame Size</th>\n",
       "      <th>Order Quantity</th>\n",
       "      <th>Unit Cost</th>\n",
       "      <th>Unit Price</th>\n",
       "      <th>Cost</th>\n",
       "      <th>Revenue</th>\n",
       "      <th>Profit</th>\n",
       "      <th>target</th>\n",
       "    </tr>\n",
       "  </thead>\n",
       "  <tbody>\n",
       "    <tr>\n",
       "      <th>0</th>\n",
       "      <td>11/26/2013</td>\n",
       "      <td>2013</td>\n",
       "      <td>11019</td>\n",
       "      <td>19</td>\n",
       "      <td>Youth (&lt;25)</td>\n",
       "      <td>M</td>\n",
       "      <td>Canada</td>\n",
       "      <td>British Columbia</td>\n",
       "      <td>Accessories</td>\n",
       "      <td>Bike Racks</td>\n",
       "      <td>Hitch Rack - 4-Bike</td>\n",
       "      <td>NaN</td>\n",
       "      <td>8</td>\n",
       "      <td>45</td>\n",
       "      <td>120</td>\n",
       "      <td>360</td>\n",
       "      <td>950</td>\n",
       "      <td>590</td>\n",
       "      <td>1</td>\n",
       "    </tr>\n",
       "    <tr>\n",
       "      <th>1</th>\n",
       "      <td>11/26/2015</td>\n",
       "      <td>2015</td>\n",
       "      <td>11019</td>\n",
       "      <td>19</td>\n",
       "      <td>Youth (&lt;25)</td>\n",
       "      <td>M</td>\n",
       "      <td>Canada</td>\n",
       "      <td>British Columbia</td>\n",
       "      <td>Accessories</td>\n",
       "      <td>Bike Racks</td>\n",
       "      <td>Hitch Rack - 4-Bike</td>\n",
       "      <td>NaN</td>\n",
       "      <td>8</td>\n",
       "      <td>45</td>\n",
       "      <td>120</td>\n",
       "      <td>360</td>\n",
       "      <td>950</td>\n",
       "      <td>590</td>\n",
       "      <td>1</td>\n",
       "    </tr>\n",
       "    <tr>\n",
       "      <th>2</th>\n",
       "      <td>3/23/2014</td>\n",
       "      <td>2014</td>\n",
       "      <td>11039</td>\n",
       "      <td>49</td>\n",
       "      <td>Adults (35-64)</td>\n",
       "      <td>M</td>\n",
       "      <td>Australia</td>\n",
       "      <td>New South Wales</td>\n",
       "      <td>Accessories</td>\n",
       "      <td>Bike Racks</td>\n",
       "      <td>Hitch Rack - 4-Bike</td>\n",
       "      <td>NaN</td>\n",
       "      <td>23</td>\n",
       "      <td>45</td>\n",
       "      <td>120</td>\n",
       "      <td>1035</td>\n",
       "      <td>2401</td>\n",
       "      <td>1366</td>\n",
       "      <td>1</td>\n",
       "    </tr>\n",
       "    <tr>\n",
       "      <th>3</th>\n",
       "      <td>3/23/2016</td>\n",
       "      <td>2016</td>\n",
       "      <td>11039</td>\n",
       "      <td>49</td>\n",
       "      <td>Adults (35-64)</td>\n",
       "      <td>M</td>\n",
       "      <td>Australia</td>\n",
       "      <td>New South Wales</td>\n",
       "      <td>Accessories</td>\n",
       "      <td>Bike Racks</td>\n",
       "      <td>Hitch Rack - 4-Bike</td>\n",
       "      <td>NaN</td>\n",
       "      <td>20</td>\n",
       "      <td>45</td>\n",
       "      <td>120</td>\n",
       "      <td>900</td>\n",
       "      <td>2088</td>\n",
       "      <td>1188</td>\n",
       "      <td>1</td>\n",
       "    </tr>\n",
       "    <tr>\n",
       "      <th>4</th>\n",
       "      <td>5/15/2014</td>\n",
       "      <td>2014</td>\n",
       "      <td>11046</td>\n",
       "      <td>47</td>\n",
       "      <td>Adults (35-64)</td>\n",
       "      <td>F</td>\n",
       "      <td>Australia</td>\n",
       "      <td>New South Wales</td>\n",
       "      <td>Accessories</td>\n",
       "      <td>Bike Racks</td>\n",
       "      <td>Hitch Rack - 4-Bike</td>\n",
       "      <td>NaN</td>\n",
       "      <td>4</td>\n",
       "      <td>45</td>\n",
       "      <td>120</td>\n",
       "      <td>180</td>\n",
       "      <td>418</td>\n",
       "      <td>238</td>\n",
       "      <td>1</td>\n",
       "    </tr>\n",
       "  </tbody>\n",
       "</table>\n",
       "</div>"
      ],
      "text/plain": [
       "         Date  year  Customer ID  Customer Age       Age Group  \\\n",
       "0  11/26/2013  2013        11019            19     Youth (<25)   \n",
       "1  11/26/2015  2015        11019            19     Youth (<25)   \n",
       "2   3/23/2014  2014        11039            49  Adults (35-64)   \n",
       "3   3/23/2016  2016        11039            49  Adults (35-64)   \n",
       "4   5/15/2014  2014        11046            47  Adults (35-64)   \n",
       "\n",
       "  Customer Gender    Country             State Product Category Sub Category  \\\n",
       "0               M     Canada  British Columbia      Accessories   Bike Racks   \n",
       "1               M     Canada  British Columbia      Accessories   Bike Racks   \n",
       "2               M  Australia   New South Wales      Accessories   Bike Racks   \n",
       "3               M  Australia   New South Wales      Accessories   Bike Racks   \n",
       "4               F  Australia   New South Wales      Accessories   Bike Racks   \n",
       "\n",
       "               Product  Frame Size  Order Quantity  Unit Cost  Unit Price  \\\n",
       "0  Hitch Rack - 4-Bike         NaN               8         45         120   \n",
       "1  Hitch Rack - 4-Bike         NaN               8         45         120   \n",
       "2  Hitch Rack - 4-Bike         NaN              23         45         120   \n",
       "3  Hitch Rack - 4-Bike         NaN              20         45         120   \n",
       "4  Hitch Rack - 4-Bike         NaN               4         45         120   \n",
       "\n",
       "   Cost  Revenue  Profit  target  \n",
       "0   360      950     590       1  \n",
       "1   360      950     590       1  \n",
       "2  1035     2401    1366       1  \n",
       "3   900     2088    1188       1  \n",
       "4   180      418     238       1  "
      ]
     },
     "execution_count": 5,
     "metadata": {},
     "output_type": "execute_result"
    }
   ],
   "source": [
    "# Visualizamos las 5 primeras filas del data set\n",
    "df.head()"
   ]
  },
  {
   "cell_type": "code",
   "execution_count": 6,
   "id": "fcbe7461",
   "metadata": {},
   "outputs": [
    {
     "data": {
      "text/plain": [
       "(113036, 19)"
      ]
     },
     "execution_count": 6,
     "metadata": {},
     "output_type": "execute_result"
    }
   ],
   "source": [
    "# Verificamos el numeor total de  filas y columnas\n",
    "df.shape"
   ]
  },
  {
   "cell_type": "code",
   "execution_count": 7,
   "id": "83d9908c",
   "metadata": {},
   "outputs": [
    {
     "name": "stdout",
     "output_type": "stream",
     "text": [
      "<class 'pandas.core.frame.DataFrame'>\n",
      "RangeIndex: 113036 entries, 0 to 113035\n",
      "Data columns (total 19 columns):\n",
      " #   Column            Non-Null Count   Dtype  \n",
      "---  ------            --------------   -----  \n",
      " 0   Date              113036 non-null  object \n",
      " 1   year              113036 non-null  int64  \n",
      " 2   Customer ID       113036 non-null  int64  \n",
      " 3   Customer Age      113036 non-null  int64  \n",
      " 4   Age Group         113036 non-null  object \n",
      " 5   Customer Gender   113036 non-null  object \n",
      " 6   Country           113036 non-null  object \n",
      " 7   State             113036 non-null  object \n",
      " 8   Product Category  113036 non-null  object \n",
      " 9   Sub Category      113036 non-null  object \n",
      " 10  Product           113036 non-null  object \n",
      " 11  Frame Size        25982 non-null   float64\n",
      " 12  Order Quantity    113036 non-null  int64  \n",
      " 13  Unit Cost         113036 non-null  int64  \n",
      " 14  Unit Price        113036 non-null  int64  \n",
      " 15  Cost              113036 non-null  int64  \n",
      " 16  Revenue           113036 non-null  int64  \n",
      " 17  Profit            113036 non-null  int64  \n",
      " 18  target            113036 non-null  int64  \n",
      "dtypes: float64(1), int64(10), object(8)\n",
      "memory usage: 16.4+ MB\n"
     ]
    }
   ],
   "source": [
    "df.info()"
   ]
  },
  {
   "cell_type": "markdown",
   "id": "1d676948",
   "metadata": {},
   "source": [
    "Nos podemos dar cuenta que existen valores faltantes en la columna \"Frame Size\""
   ]
  },
  {
   "cell_type": "code",
   "execution_count": 8,
   "id": "867d0337",
   "metadata": {},
   "outputs": [
    {
     "data": {
      "application/vnd.microsoft.datawrangler.viewer.v0+json": {
       "columns": [
        {
         "name": "index",
         "rawType": "object",
         "type": "string"
        },
        {
         "name": "0",
         "rawType": "int64",
         "type": "integer"
        }
       ],
       "ref": "961336e3-408d-40d3-9172-c00619efe32d",
       "rows": [
        [
         "Date",
         "0"
        ],
        [
         "year",
         "0"
        ],
        [
         "Customer ID",
         "0"
        ],
        [
         "Customer Age",
         "0"
        ],
        [
         "Age Group",
         "0"
        ],
        [
         "Customer Gender",
         "0"
        ],
        [
         "Country",
         "0"
        ],
        [
         "State",
         "0"
        ],
        [
         "Product Category",
         "0"
        ],
        [
         "Sub Category",
         "0"
        ],
        [
         "Product",
         "0"
        ],
        [
         "Frame Size",
         "87054"
        ],
        [
         "Order Quantity",
         "0"
        ],
        [
         "Unit Cost",
         "0"
        ],
        [
         "Unit Price",
         "0"
        ],
        [
         "Cost",
         "0"
        ],
        [
         "Revenue",
         "0"
        ],
        [
         "Profit",
         "0"
        ],
        [
         "target",
         "0"
        ]
       ],
       "shape": {
        "columns": 1,
        "rows": 19
       }
      },
      "text/plain": [
       "Date                    0\n",
       "year                    0\n",
       "Customer ID             0\n",
       "Customer Age            0\n",
       "Age Group               0\n",
       "Customer Gender         0\n",
       "Country                 0\n",
       "State                   0\n",
       "Product Category        0\n",
       "Sub Category            0\n",
       "Product                 0\n",
       "Frame Size          87054\n",
       "Order Quantity          0\n",
       "Unit Cost               0\n",
       "Unit Price              0\n",
       "Cost                    0\n",
       "Revenue                 0\n",
       "Profit                  0\n",
       "target                  0\n",
       "dtype: int64"
      ]
     },
     "execution_count": 8,
     "metadata": {},
     "output_type": "execute_result"
    }
   ],
   "source": [
    "# Verificamos la cantidad de valores numos en cada variable\n",
    "df.isnull().sum()"
   ]
  },
  {
   "cell_type": "markdown",
   "id": "8dd7abe8",
   "metadata": {},
   "source": [
    "Confirmamos que la variable Frame Size tiene 87054 valores nulos. esto corresponde al 77 % del total de datos de la variable."
   ]
  },
  {
   "cell_type": "code",
   "execution_count": 9,
   "id": "da490c0d",
   "metadata": {},
   "outputs": [
    {
     "data": {
      "application/vnd.microsoft.datawrangler.viewer.v0+json": {
       "columns": [
        {
         "name": "index",
         "rawType": "object",
         "type": "string"
        },
        {
         "name": "Frame Size",
         "rawType": "float64",
         "type": "float"
        }
       ],
       "ref": "068db8ed-8b2e-4831-8e36-6a37ecf93bac",
       "rows": [
        [
         "count",
         "25982.0"
        ],
        [
         "mean",
         "47.313062889692866"
        ],
        [
         "std",
         "6.860796899786554"
        ],
        [
         "min",
         "38.0"
        ],
        [
         "25%",
         "42.0"
        ],
        [
         "50%",
         "46.0"
        ],
        [
         "75%",
         "52.0"
        ],
        [
         "max",
         "62.0"
        ]
       ],
       "shape": {
        "columns": 1,
        "rows": 8
       }
      },
      "text/plain": [
       "count    25982.000000\n",
       "mean        47.313063\n",
       "std          6.860797\n",
       "min         38.000000\n",
       "25%         42.000000\n",
       "50%         46.000000\n",
       "75%         52.000000\n",
       "max         62.000000\n",
       "Name: Frame Size, dtype: float64"
      ]
     },
     "execution_count": 9,
     "metadata": {},
     "output_type": "execute_result"
    }
   ],
   "source": [
    "df[\"Frame Size\"].describe()"
   ]
  },
  {
   "cell_type": "markdown",
   "id": "62c5cb1e",
   "metadata": {},
   "source": [
    "La variable \"Frame Size\" hace referencia a la talla de los marcos de bicicletas que se venden en la tienda. Por ello, no seria adecuado imputar porque el resto de articulos que se venden en las tiendas no tienen la caracteristica que sugiere esta variable. Entonces, se toma la desicion de eliminar la columna. "
   ]
  },
  {
   "cell_type": "code",
   "execution_count": 10,
   "id": "f2693a67",
   "metadata": {},
   "outputs": [],
   "source": [
    "# Eliminamos la columna Frame Size\n",
    "df = df.drop(\"Frame Size\", axis=1)"
   ]
  },
  {
   "cell_type": "markdown",
   "id": "779c3e48",
   "metadata": {},
   "source": [
    "Buscamos datos duplicados "
   ]
  },
  {
   "cell_type": "code",
   "execution_count": 11,
   "id": "7216345f",
   "metadata": {},
   "outputs": [
    {
     "name": "stdout",
     "output_type": "stream",
     "text": [
      "Número de filas duplicadas: 1000\n",
      "\n",
      "Las filas duplicadas son:\n"
     ]
    },
    {
     "data": {
      "application/vnd.microsoft.datawrangler.viewer.v0+json": {
       "columns": [
        {
         "name": "index",
         "rawType": "int64",
         "type": "integer"
        },
        {
         "name": "Date",
         "rawType": "object",
         "type": "string"
        },
        {
         "name": "year",
         "rawType": "int64",
         "type": "integer"
        },
        {
         "name": "Customer ID",
         "rawType": "int64",
         "type": "integer"
        },
        {
         "name": "Customer Age",
         "rawType": "int64",
         "type": "integer"
        },
        {
         "name": "Age Group",
         "rawType": "object",
         "type": "string"
        },
        {
         "name": "Customer Gender",
         "rawType": "object",
         "type": "string"
        },
        {
         "name": "Country",
         "rawType": "object",
         "type": "string"
        },
        {
         "name": "State",
         "rawType": "object",
         "type": "string"
        },
        {
         "name": "Product Category",
         "rawType": "object",
         "type": "string"
        },
        {
         "name": "Sub Category",
         "rawType": "object",
         "type": "string"
        },
        {
         "name": "Product",
         "rawType": "object",
         "type": "string"
        },
        {
         "name": "Order Quantity",
         "rawType": "int64",
         "type": "integer"
        },
        {
         "name": "Unit Cost",
         "rawType": "int64",
         "type": "integer"
        },
        {
         "name": "Unit Price",
         "rawType": "int64",
         "type": "integer"
        },
        {
         "name": "Cost",
         "rawType": "int64",
         "type": "integer"
        },
        {
         "name": "Revenue",
         "rawType": "int64",
         "type": "integer"
        },
        {
         "name": "Profit",
         "rawType": "int64",
         "type": "integer"
        },
        {
         "name": "target",
         "rawType": "int64",
         "type": "integer"
        }
       ],
       "ref": "27d7a2e2-8801-4ff7-a56b-ea01d547053e",
       "rows": [
        [
         "1021",
         "12/19/2013",
         "2013",
         "28931",
         "22",
         "Youth (<25)",
         "M",
         "Australia",
         "New South Wales",
         "Accessories",
         "Bike Stands",
         "All-Purpose Bike Stand",
         "9",
         "59",
         "159",
         "531",
         "1245",
         "714",
         "1"
        ],
        [
         "1091",
         "9/30/2015",
         "2015",
         "11068",
         "42",
         "Adults (35-64)",
         "F",
         "Australia",
         "Victoria",
         "Accessories",
         "Bottles and Cages",
         "Mountain Bottle Cage",
         "5",
         "4",
         "10",
         "20",
         "40",
         "20",
         "1"
        ],
        [
         "1093",
         "10/24/2013",
         "2013",
         "11068",
         "42",
         "Adults (35-64)",
         "F",
         "Australia",
         "Victoria",
         "Accessories",
         "Bottles and Cages",
         "Mountain Bottle Cage",
         "2",
         "4",
         "10",
         "8",
         "16",
         "8",
         "1"
        ],
        [
         "1095",
         "10/24/2015",
         "2015",
         "11068",
         "42",
         "Adults (35-64)",
         "F",
         "Australia",
         "Victoria",
         "Accessories",
         "Bottles and Cages",
         "Mountain Bottle Cage",
         "1",
         "4",
         "10",
         "4",
         "8",
         "4",
         "1"
        ],
        [
         "1193",
         "1/15/2016",
         "2016",
         "11248",
         "42",
         "Adults (35-64)",
         "M",
         "France",
         "Seine Saint Denis",
         "Accessories",
         "Bottles and Cages",
         "Water Bottle - 30 oz.",
         "14",
         "2",
         "5",
         "28",
         "57",
         "29",
         "1"
        ],
        [
         "1203",
         "4/20/2014",
         "2014",
         "11251",
         "65",
         "Seniors (64+)",
         "M",
         "Canada",
         "British Columbia",
         "Accessories",
         "Bottles and Cages",
         "Mountain Bottle Cage",
         "27",
         "4",
         "10",
         "108",
         "267",
         "159",
         "1"
        ],
        [
         "1213",
         "7/26/2014",
         "2014",
         "11251",
         "65",
         "Seniors (64+)",
         "M",
         "Canada",
         "British Columbia",
         "Accessories",
         "Bottles and Cages",
         "Mountain Bottle Cage",
         "20",
         "4",
         "10",
         "80",
         "198",
         "118",
         "1"
        ],
        [
         "1537",
         "12/9/2013",
         "2013",
         "11601",
         "20",
         "Youth (<25)",
         "M",
         "France",
         "Yveline",
         "Accessories",
         "Bottles and Cages",
         "Water Bottle - 30 oz.",
         "19",
         "2",
         "5",
         "38",
         "72",
         "34",
         "1"
        ],
        [
         "1541",
         "12/12/2013",
         "2013",
         "11607",
         "22",
         "Youth (<25)",
         "M",
         "France",
         "Seine (Paris)",
         "Accessories",
         "Bottles and Cages",
         "Water Bottle - 30 oz.",
         "19",
         "2",
         "5",
         "38",
         "78",
         "40",
         "1"
        ],
        [
         "1595",
         "11/22/2013",
         "2013",
         "11823",
         "31",
         "Young Adults (25-34)",
         "F",
         "Canada",
         "British Columbia",
         "Accessories",
         "Bottles and Cages",
         "Water Bottle - 30 oz.",
         "22",
         "2",
         "5",
         "44",
         "109",
         "65",
         "1"
        ],
        [
         "1597",
         "11/22/2013",
         "2013",
         "11823",
         "31",
         "Young Adults (25-34)",
         "F",
         "Canada",
         "British Columbia",
         "Accessories",
         "Bottles and Cages",
         "Water Bottle - 30 oz.",
         "22",
         "2",
         "5",
         "44",
         "109",
         "65",
         "1"
        ],
        [
         "1600",
         "11/22/2015",
         "2015",
         "11823",
         "31",
         "Young Adults (25-34)",
         "F",
         "Canada",
         "British Columbia",
         "Accessories",
         "Bottles and Cages",
         "Water Bottle - 30 oz.",
         "20",
         "2",
         "5",
         "40",
         "99",
         "59",
         "1"
        ],
        [
         "1697",
         "5/1/2014",
         "2014",
         "11873",
         "30",
         "Young Adults (25-34)",
         "M",
         "United States",
         "California",
         "Accessories",
         "Bottles and Cages",
         "Water Bottle - 30 oz.",
         "25",
         "2",
         "5",
         "50",
         "123",
         "73",
         "1"
        ],
        [
         "1839",
         "9/13/2015",
         "2015",
         "12072",
         "53",
         "Adults (35-64)",
         "M",
         "United States",
         "California",
         "Accessories",
         "Bottles and Cages",
         "Water Bottle - 30 oz.",
         "3",
         "2",
         "5",
         "6",
         "15",
         "9",
         "1"
        ],
        [
         "1985",
         "9/17/2015",
         "2015",
         "12232",
         "42",
         "Adults (35-64)",
         "M",
         "Germany",
         "Nordrhein-Westfalen",
         "Accessories",
         "Bottles and Cages",
         "Mountain Bottle Cage",
         "14",
         "4",
         "10",
         "56",
         "122",
         "66",
         "1"
        ],
        [
         "2003",
         "1/26/2014",
         "2014",
         "12251",
         "20",
         "Youth (<25)",
         "M",
         "Australia",
         "Queensland",
         "Accessories",
         "Bottles and Cages",
         "Mountain Bottle Cage",
         "19",
         "4",
         "10",
         "76",
         "160",
         "84",
         "1"
        ],
        [
         "2005",
         "1/26/2016",
         "2016",
         "12251",
         "20",
         "Youth (<25)",
         "M",
         "Australia",
         "Queensland",
         "Accessories",
         "Bottles and Cages",
         "Mountain Bottle Cage",
         "16",
         "4",
         "10",
         "64",
         "134",
         "70",
         "1"
        ],
        [
         "2133",
         "6/12/2016",
         "2016",
         "12311",
         "43",
         "Adults (35-64)",
         "M",
         "United Kingdom",
         "England",
         "Accessories",
         "Bottles and Cages",
         "Mountain Bottle Cage",
         "5",
         "4",
         "10",
         "20",
         "48",
         "28",
         "1"
        ],
        [
         "2147",
         "5/24/2014",
         "2014",
         "12321",
         "46",
         "Adults (35-64)",
         "F",
         "France",
         "Essonne",
         "Accessories",
         "Bottles and Cages",
         "Water Bottle - 30 oz.",
         "17",
         "2",
         "5",
         "34",
         "82",
         "48",
         "1"
        ],
        [
         "2195",
         "10/30/2015",
         "2015",
         "12350",
         "24",
         "Youth (<25)",
         "M",
         "Australia",
         "Victoria",
         "Accessories",
         "Bottles and Cages",
         "Water Bottle - 30 oz.",
         "15",
         "2",
         "5",
         "30",
         "59",
         "29",
         "1"
        ],
        [
         "2317",
         "5/14/2014",
         "2014",
         "12463",
         "29",
         "Young Adults (25-34)",
         "M",
         "United Kingdom",
         "England",
         "Accessories",
         "Bottles and Cages",
         "Water Bottle - 30 oz.",
         "5",
         "2",
         "5",
         "10",
         "24",
         "14",
         "1"
        ],
        [
         "2327",
         "7/4/2013",
         "2013",
         "12484",
         "33",
         "Young Adults (25-34)",
         "F",
         "Germany",
         "Hamburg",
         "Accessories",
         "Bottles and Cages",
         "Road Bottle Cage",
         "13",
         "3",
         "9",
         "39",
         "109",
         "70",
         "1"
        ],
        [
         "2329",
         "7/4/2015",
         "2015",
         "12484",
         "33",
         "Young Adults (25-34)",
         "F",
         "Germany",
         "Hamburg",
         "Accessories",
         "Bottles and Cages",
         "Road Bottle Cage",
         "14",
         "3",
         "9",
         "42",
         "117",
         "75",
         "1"
        ],
        [
         "2463",
         "1/7/2016",
         "2016",
         "12601",
         "37",
         "Adults (35-64)",
         "M",
         "United Kingdom",
         "England",
         "Accessories",
         "Bottles and Cages",
         "Mountain Bottle Cage",
         "14",
         "4",
         "10",
         "56",
         "134",
         "78",
         "1"
        ],
        [
         "2491",
         "9/15/2013",
         "2013",
         "12614",
         "27",
         "Young Adults (25-34)",
         "M",
         "France",
         "Yveline",
         "Accessories",
         "Bottles and Cages",
         "Mountain Bottle Cage",
         "11",
         "4",
         "10",
         "44",
         "84",
         "40",
         "1"
        ],
        [
         "2505",
         "5/17/2014",
         "2014",
         "12618",
         "28",
         "Young Adults (25-34)",
         "F",
         "France",
         "Seine et Marne",
         "Accessories",
         "Bottles and Cages",
         "Water Bottle - 30 oz.",
         "22",
         "2",
         "5",
         "44",
         "90",
         "46",
         "1"
        ],
        [
         "2513",
         "3/25/2014",
         "2014",
         "12621",
         "28",
         "Young Adults (25-34)",
         "M",
         "France",
         "Seine (Paris)",
         "Accessories",
         "Bottles and Cages",
         "Water Bottle - 30 oz.",
         "18",
         "2",
         "5",
         "36",
         "74",
         "38",
         "1"
        ],
        [
         "2515",
         "3/25/2016",
         "2016",
         "12621",
         "28",
         "Young Adults (25-34)",
         "M",
         "France",
         "Seine (Paris)",
         "Accessories",
         "Bottles and Cages",
         "Water Bottle - 30 oz.",
         "17",
         "2",
         "5",
         "34",
         "70",
         "36",
         "1"
        ],
        [
         "2615",
         "1/31/2016",
         "2016",
         "12748",
         "26",
         "Young Adults (25-34)",
         "F",
         "France",
         "Seine Saint Denis",
         "Accessories",
         "Bottles and Cages",
         "Water Bottle - 30 oz.",
         "8",
         "2",
         "5",
         "16",
         "33",
         "17",
         "1"
        ],
        [
         "2657",
         "5/24/2016",
         "2016",
         "12825",
         "31",
         "Young Adults (25-34)",
         "M",
         "Germany",
         "Hamburg",
         "Accessories",
         "Bottles and Cages",
         "Water Bottle - 30 oz.",
         "5",
         "2",
         "5",
         "10",
         "23",
         "13",
         "1"
        ],
        [
         "2715",
         "12/11/2015",
         "2015",
         "12926",
         "31",
         "Young Adults (25-34)",
         "F",
         "United States",
         "California",
         "Accessories",
         "Bottles and Cages",
         "Water Bottle - 30 oz.",
         "6",
         "2",
         "5",
         "12",
         "29",
         "17",
         "1"
        ],
        [
         "2767",
         "5/1/2016",
         "2016",
         "12959",
         "35",
         "Adults (35-64)",
         "F",
         "Canada",
         "British Columbia",
         "Accessories",
         "Bottles and Cages",
         "Mountain Bottle Cage",
         "29",
         "4",
         "10",
         "116",
         "287",
         "171",
         "1"
        ],
        [
         "2814",
         "3/17/2014",
         "2014",
         "12964",
         "35",
         "Adults (35-64)",
         "M",
         "Canada",
         "British Columbia",
         "Accessories",
         "Bottles and Cages",
         "Water Bottle - 30 oz.",
         "15",
         "2",
         "5",
         "30",
         "74",
         "44",
         "1"
        ],
        [
         "2815",
         "3/17/2014",
         "2014",
         "12964",
         "35",
         "Adults (35-64)",
         "M",
         "Canada",
         "British Columbia",
         "Accessories",
         "Bottles and Cages",
         "Water Bottle - 30 oz.",
         "15",
         "2",
         "5",
         "30",
         "74",
         "44",
         "1"
        ],
        [
         "2845",
         "9/4/2013",
         "2013",
         "12969",
         "37",
         "Adults (35-64)",
         "M",
         "Canada",
         "British Columbia",
         "Accessories",
         "Bottles and Cages",
         "Water Bottle - 30 oz.",
         "19",
         "2",
         "5",
         "38",
         "94",
         "56",
         "1"
        ],
        [
         "2943",
         "11/20/2015",
         "2015",
         "13071",
         "24",
         "Youth (<25)",
         "M",
         "Canada",
         "British Columbia",
         "Accessories",
         "Bottles and Cages",
         "Mountain Bottle Cage",
         "6",
         "4",
         "10",
         "24",
         "59",
         "35",
         "1"
        ],
        [
         "2979",
         "7/23/2016",
         "2016",
         "13140",
         "44",
         "Adults (35-64)",
         "F",
         "Australia",
         "South Australia",
         "Accessories",
         "Bottles and Cages",
         "Mountain Bottle Cage",
         "22",
         "4",
         "10",
         "88",
         "180",
         "92",
         "1"
        ],
        [
         "2993",
         "4/17/2016",
         "2016",
         "13141",
         "44",
         "Adults (35-64)",
         "M",
         "Australia",
         "New South Wales",
         "Accessories",
         "Bottles and Cages",
         "Water Bottle - 30 oz.",
         "9",
         "2",
         "5",
         "18",
         "39",
         "21",
         "1"
        ],
        [
         "3077",
         "3/30/2016",
         "2016",
         "13270",
         "64",
         "Adults (35-64)",
         "M",
         "Canada",
         "British Columbia",
         "Accessories",
         "Bottles and Cages",
         "Water Bottle - 30 oz.",
         "8",
         "2",
         "5",
         "16",
         "40",
         "24",
         "1"
        ],
        [
         "3085",
         "2/1/2016",
         "2016",
         "13334",
         "57",
         "Adults (35-64)",
         "F",
         "United States",
         "Oregon",
         "Accessories",
         "Bottles and Cages",
         "Mountain Bottle Cage",
         "26",
         "4",
         "10",
         "104",
         "224",
         "120",
         "1"
        ],
        [
         "3105",
         "11/13/2015",
         "2015",
         "13394",
         "46",
         "Adults (35-64)",
         "M",
         "United States",
         "Oregon",
         "Accessories",
         "Bottles and Cages",
         "Mountain Bottle Cage",
         "15",
         "4",
         "10",
         "60",
         "129",
         "69",
         "1"
        ],
        [
         "3286",
         "1/27/2016",
         "2016",
         "13564",
         "45",
         "Adults (35-64)",
         "F",
         "France",
         "Seine (Paris)",
         "Accessories",
         "Bottles and Cages",
         "Mountain Bottle Cage",
         "14",
         "4",
         "10",
         "56",
         "115",
         "59",
         "1"
        ],
        [
         "3297",
         "12/22/2013",
         "2013",
         "13575",
         "53",
         "Adults (35-64)",
         "F",
         "France",
         "Essonne",
         "Accessories",
         "Bottles and Cages",
         "Water Bottle - 30 oz.",
         "30",
         "2",
         "5",
         "60",
         "144",
         "84",
         "1"
        ],
        [
         "3299",
         "12/22/2015",
         "2015",
         "13575",
         "53",
         "Adults (35-64)",
         "F",
         "France",
         "Essonne",
         "Accessories",
         "Bottles and Cages",
         "Water Bottle - 30 oz.",
         "31",
         "2",
         "5",
         "62",
         "149",
         "87",
         "1"
        ],
        [
         "3443",
         "1/8/2016",
         "2016",
         "13651",
         "26",
         "Young Adults (25-34)",
         "M",
         "Australia",
         "South Australia",
         "Accessories",
         "Bottles and Cages",
         "Mountain Bottle Cage",
         "10",
         "4",
         "10",
         "40",
         "82",
         "42",
         "1"
        ],
        [
         "3519",
         "8/25/2015",
         "2015",
         "13756",
         "38",
         "Adults (35-64)",
         "F",
         "Canada",
         "British Columbia",
         "Accessories",
         "Bottles and Cages",
         "Mountain Bottle Cage",
         "16",
         "4",
         "10",
         "64",
         "158",
         "94",
         "1"
        ],
        [
         "3579",
         "12/4/2013",
         "2013",
         "13782",
         "30",
         "Young Adults (25-34)",
         "F",
         "Germany",
         "Hamburg",
         "Accessories",
         "Bottles and Cages",
         "Water Bottle - 30 oz.",
         "5",
         "2",
         "5",
         "10",
         "23",
         "13",
         "1"
        ],
        [
         "3609",
         "10/9/2015",
         "2015",
         "13857",
         "26",
         "Young Adults (25-34)",
         "F",
         "United States",
         "Oregon",
         "Accessories",
         "Bottles and Cages",
         "Water Bottle - 30 oz.",
         "21",
         "2",
         "5",
         "42",
         "90",
         "48",
         "1"
        ],
        [
         "3647",
         "1/22/2016",
         "2016",
         "13978",
         "29",
         "Young Adults (25-34)",
         "F",
         "United States",
         "Washington",
         "Accessories",
         "Bottles and Cages",
         "Water Bottle - 30 oz.",
         "11",
         "2",
         "5",
         "22",
         "43",
         "21",
         "1"
        ],
        [
         "3669",
         "1/8/2016",
         "2016",
         "13983",
         "53",
         "Adults (35-64)",
         "M",
         "Australia",
         "New South Wales",
         "Accessories",
         "Bottles and Cages",
         "Water Bottle - 30 oz.",
         "1",
         "2",
         "5",
         "2",
         "4",
         "2",
         "1"
        ]
       ],
       "shape": {
        "columns": 18,
        "rows": 1000
       }
      },
      "text/html": [
       "<div>\n",
       "<style scoped>\n",
       "    .dataframe tbody tr th:only-of-type {\n",
       "        vertical-align: middle;\n",
       "    }\n",
       "\n",
       "    .dataframe tbody tr th {\n",
       "        vertical-align: top;\n",
       "    }\n",
       "\n",
       "    .dataframe thead th {\n",
       "        text-align: right;\n",
       "    }\n",
       "</style>\n",
       "<table border=\"1\" class=\"dataframe\">\n",
       "  <thead>\n",
       "    <tr style=\"text-align: right;\">\n",
       "      <th></th>\n",
       "      <th>Date</th>\n",
       "      <th>year</th>\n",
       "      <th>Customer ID</th>\n",
       "      <th>Customer Age</th>\n",
       "      <th>Age Group</th>\n",
       "      <th>Customer Gender</th>\n",
       "      <th>Country</th>\n",
       "      <th>State</th>\n",
       "      <th>Product Category</th>\n",
       "      <th>Sub Category</th>\n",
       "      <th>Product</th>\n",
       "      <th>Order Quantity</th>\n",
       "      <th>Unit Cost</th>\n",
       "      <th>Unit Price</th>\n",
       "      <th>Cost</th>\n",
       "      <th>Revenue</th>\n",
       "      <th>Profit</th>\n",
       "      <th>target</th>\n",
       "    </tr>\n",
       "  </thead>\n",
       "  <tbody>\n",
       "    <tr>\n",
       "      <th>1021</th>\n",
       "      <td>12/19/2013</td>\n",
       "      <td>2013</td>\n",
       "      <td>28931</td>\n",
       "      <td>22</td>\n",
       "      <td>Youth (&lt;25)</td>\n",
       "      <td>M</td>\n",
       "      <td>Australia</td>\n",
       "      <td>New South Wales</td>\n",
       "      <td>Accessories</td>\n",
       "      <td>Bike Stands</td>\n",
       "      <td>All-Purpose Bike Stand</td>\n",
       "      <td>9</td>\n",
       "      <td>59</td>\n",
       "      <td>159</td>\n",
       "      <td>531</td>\n",
       "      <td>1245</td>\n",
       "      <td>714</td>\n",
       "      <td>1</td>\n",
       "    </tr>\n",
       "    <tr>\n",
       "      <th>1091</th>\n",
       "      <td>9/30/2015</td>\n",
       "      <td>2015</td>\n",
       "      <td>11068</td>\n",
       "      <td>42</td>\n",
       "      <td>Adults (35-64)</td>\n",
       "      <td>F</td>\n",
       "      <td>Australia</td>\n",
       "      <td>Victoria</td>\n",
       "      <td>Accessories</td>\n",
       "      <td>Bottles and Cages</td>\n",
       "      <td>Mountain Bottle Cage</td>\n",
       "      <td>5</td>\n",
       "      <td>4</td>\n",
       "      <td>10</td>\n",
       "      <td>20</td>\n",
       "      <td>40</td>\n",
       "      <td>20</td>\n",
       "      <td>1</td>\n",
       "    </tr>\n",
       "    <tr>\n",
       "      <th>1093</th>\n",
       "      <td>10/24/2013</td>\n",
       "      <td>2013</td>\n",
       "      <td>11068</td>\n",
       "      <td>42</td>\n",
       "      <td>Adults (35-64)</td>\n",
       "      <td>F</td>\n",
       "      <td>Australia</td>\n",
       "      <td>Victoria</td>\n",
       "      <td>Accessories</td>\n",
       "      <td>Bottles and Cages</td>\n",
       "      <td>Mountain Bottle Cage</td>\n",
       "      <td>2</td>\n",
       "      <td>4</td>\n",
       "      <td>10</td>\n",
       "      <td>8</td>\n",
       "      <td>16</td>\n",
       "      <td>8</td>\n",
       "      <td>1</td>\n",
       "    </tr>\n",
       "    <tr>\n",
       "      <th>1095</th>\n",
       "      <td>10/24/2015</td>\n",
       "      <td>2015</td>\n",
       "      <td>11068</td>\n",
       "      <td>42</td>\n",
       "      <td>Adults (35-64)</td>\n",
       "      <td>F</td>\n",
       "      <td>Australia</td>\n",
       "      <td>Victoria</td>\n",
       "      <td>Accessories</td>\n",
       "      <td>Bottles and Cages</td>\n",
       "      <td>Mountain Bottle Cage</td>\n",
       "      <td>1</td>\n",
       "      <td>4</td>\n",
       "      <td>10</td>\n",
       "      <td>4</td>\n",
       "      <td>8</td>\n",
       "      <td>4</td>\n",
       "      <td>1</td>\n",
       "    </tr>\n",
       "    <tr>\n",
       "      <th>1193</th>\n",
       "      <td>1/15/2016</td>\n",
       "      <td>2016</td>\n",
       "      <td>11248</td>\n",
       "      <td>42</td>\n",
       "      <td>Adults (35-64)</td>\n",
       "      <td>M</td>\n",
       "      <td>France</td>\n",
       "      <td>Seine Saint Denis</td>\n",
       "      <td>Accessories</td>\n",
       "      <td>Bottles and Cages</td>\n",
       "      <td>Water Bottle - 30 oz.</td>\n",
       "      <td>14</td>\n",
       "      <td>2</td>\n",
       "      <td>5</td>\n",
       "      <td>28</td>\n",
       "      <td>57</td>\n",
       "      <td>29</td>\n",
       "      <td>1</td>\n",
       "    </tr>\n",
       "    <tr>\n",
       "      <th>...</th>\n",
       "      <td>...</td>\n",
       "      <td>...</td>\n",
       "      <td>...</td>\n",
       "      <td>...</td>\n",
       "      <td>...</td>\n",
       "      <td>...</td>\n",
       "      <td>...</td>\n",
       "      <td>...</td>\n",
       "      <td>...</td>\n",
       "      <td>...</td>\n",
       "      <td>...</td>\n",
       "      <td>...</td>\n",
       "      <td>...</td>\n",
       "      <td>...</td>\n",
       "      <td>...</td>\n",
       "      <td>...</td>\n",
       "      <td>...</td>\n",
       "      <td>...</td>\n",
       "    </tr>\n",
       "    <tr>\n",
       "      <th>111029</th>\n",
       "      <td>2/18/2014</td>\n",
       "      <td>2014</td>\n",
       "      <td>26499</td>\n",
       "      <td>49</td>\n",
       "      <td>Adults (35-64)</td>\n",
       "      <td>F</td>\n",
       "      <td>United States</td>\n",
       "      <td>California</td>\n",
       "      <td>Bikes</td>\n",
       "      <td>Touring Bikes</td>\n",
       "      <td>Touring-1000 Blue, 60</td>\n",
       "      <td>1</td>\n",
       "      <td>1482</td>\n",
       "      <td>2384</td>\n",
       "      <td>1482</td>\n",
       "      <td>2336</td>\n",
       "      <td>854</td>\n",
       "      <td>1</td>\n",
       "    </tr>\n",
       "    <tr>\n",
       "      <th>111031</th>\n",
       "      <td>2/18/2016</td>\n",
       "      <td>2016</td>\n",
       "      <td>26499</td>\n",
       "      <td>49</td>\n",
       "      <td>Adults (35-64)</td>\n",
       "      <td>F</td>\n",
       "      <td>United States</td>\n",
       "      <td>California</td>\n",
       "      <td>Bikes</td>\n",
       "      <td>Touring Bikes</td>\n",
       "      <td>Touring-1000 Blue, 60</td>\n",
       "      <td>1</td>\n",
       "      <td>1482</td>\n",
       "      <td>2384</td>\n",
       "      <td>1482</td>\n",
       "      <td>2336</td>\n",
       "      <td>854</td>\n",
       "      <td>1</td>\n",
       "    </tr>\n",
       "    <tr>\n",
       "      <th>111265</th>\n",
       "      <td>4/27/2014</td>\n",
       "      <td>2014</td>\n",
       "      <td>27295</td>\n",
       "      <td>31</td>\n",
       "      <td>Young Adults (25-34)</td>\n",
       "      <td>M</td>\n",
       "      <td>United States</td>\n",
       "      <td>Washington</td>\n",
       "      <td>Bikes</td>\n",
       "      <td>Touring Bikes</td>\n",
       "      <td>Touring-1000 Blue, 50</td>\n",
       "      <td>1</td>\n",
       "      <td>1482</td>\n",
       "      <td>2384</td>\n",
       "      <td>1482</td>\n",
       "      <td>1860</td>\n",
       "      <td>378</td>\n",
       "      <td>1</td>\n",
       "    </tr>\n",
       "    <tr>\n",
       "      <th>111953</th>\n",
       "      <td>9/20/2013</td>\n",
       "      <td>2013</td>\n",
       "      <td>29256</td>\n",
       "      <td>42</td>\n",
       "      <td>Adults (35-64)</td>\n",
       "      <td>M</td>\n",
       "      <td>Canada</td>\n",
       "      <td>British Columbia</td>\n",
       "      <td>Bikes</td>\n",
       "      <td>Touring Bikes</td>\n",
       "      <td>Touring-3000 Yellow, 44</td>\n",
       "      <td>1</td>\n",
       "      <td>461</td>\n",
       "      <td>742</td>\n",
       "      <td>461</td>\n",
       "      <td>735</td>\n",
       "      <td>274</td>\n",
       "      <td>1</td>\n",
       "    </tr>\n",
       "    <tr>\n",
       "      <th>111955</th>\n",
       "      <td>9/20/2015</td>\n",
       "      <td>2015</td>\n",
       "      <td>29256</td>\n",
       "      <td>42</td>\n",
       "      <td>Adults (35-64)</td>\n",
       "      <td>M</td>\n",
       "      <td>Canada</td>\n",
       "      <td>British Columbia</td>\n",
       "      <td>Bikes</td>\n",
       "      <td>Touring Bikes</td>\n",
       "      <td>Touring-3000 Yellow, 44</td>\n",
       "      <td>1</td>\n",
       "      <td>461</td>\n",
       "      <td>742</td>\n",
       "      <td>461</td>\n",
       "      <td>735</td>\n",
       "      <td>274</td>\n",
       "      <td>1</td>\n",
       "    </tr>\n",
       "  </tbody>\n",
       "</table>\n",
       "<p>1000 rows × 18 columns</p>\n",
       "</div>"
      ],
      "text/plain": [
       "              Date  year  Customer ID  Customer Age             Age Group  \\\n",
       "1021    12/19/2013  2013        28931            22           Youth (<25)   \n",
       "1091     9/30/2015  2015        11068            42        Adults (35-64)   \n",
       "1093    10/24/2013  2013        11068            42        Adults (35-64)   \n",
       "1095    10/24/2015  2015        11068            42        Adults (35-64)   \n",
       "1193     1/15/2016  2016        11248            42        Adults (35-64)   \n",
       "...            ...   ...          ...           ...                   ...   \n",
       "111029   2/18/2014  2014        26499            49        Adults (35-64)   \n",
       "111031   2/18/2016  2016        26499            49        Adults (35-64)   \n",
       "111265   4/27/2014  2014        27295            31  Young Adults (25-34)   \n",
       "111953   9/20/2013  2013        29256            42        Adults (35-64)   \n",
       "111955   9/20/2015  2015        29256            42        Adults (35-64)   \n",
       "\n",
       "       Customer Gender        Country              State Product Category  \\\n",
       "1021                 M      Australia    New South Wales      Accessories   \n",
       "1091                 F      Australia           Victoria      Accessories   \n",
       "1093                 F      Australia           Victoria      Accessories   \n",
       "1095                 F      Australia           Victoria      Accessories   \n",
       "1193                 M         France  Seine Saint Denis      Accessories   \n",
       "...                ...            ...                ...              ...   \n",
       "111029               F  United States         California            Bikes   \n",
       "111031               F  United States         California            Bikes   \n",
       "111265               M  United States         Washington            Bikes   \n",
       "111953               M         Canada   British Columbia            Bikes   \n",
       "111955               M         Canada   British Columbia            Bikes   \n",
       "\n",
       "             Sub Category                  Product  Order Quantity  Unit Cost  \\\n",
       "1021          Bike Stands   All-Purpose Bike Stand               9         59   \n",
       "1091    Bottles and Cages     Mountain Bottle Cage               5          4   \n",
       "1093    Bottles and Cages     Mountain Bottle Cage               2          4   \n",
       "1095    Bottles and Cages     Mountain Bottle Cage               1          4   \n",
       "1193    Bottles and Cages    Water Bottle - 30 oz.              14          2   \n",
       "...                   ...                      ...             ...        ...   \n",
       "111029      Touring Bikes    Touring-1000 Blue, 60               1       1482   \n",
       "111031      Touring Bikes    Touring-1000 Blue, 60               1       1482   \n",
       "111265      Touring Bikes    Touring-1000 Blue, 50               1       1482   \n",
       "111953      Touring Bikes  Touring-3000 Yellow, 44               1        461   \n",
       "111955      Touring Bikes  Touring-3000 Yellow, 44               1        461   \n",
       "\n",
       "        Unit Price  Cost  Revenue  Profit  target  \n",
       "1021           159   531     1245     714       1  \n",
       "1091            10    20       40      20       1  \n",
       "1093            10     8       16       8       1  \n",
       "1095            10     4        8       4       1  \n",
       "1193             5    28       57      29       1  \n",
       "...            ...   ...      ...     ...     ...  \n",
       "111029        2384  1482     2336     854       1  \n",
       "111031        2384  1482     2336     854       1  \n",
       "111265        2384  1482     1860     378       1  \n",
       "111953         742   461      735     274       1  \n",
       "111955         742   461      735     274       1  \n",
       "\n",
       "[1000 rows x 18 columns]"
      ]
     },
     "execution_count": 11,
     "metadata": {},
     "output_type": "execute_result"
    }
   ],
   "source": [
    "# Verificamos las filas duplicadas \n",
    "# Verificar cuáles filas son duplicadas\n",
    "duplicados = df.duplicated()\n",
    "\n",
    "# Ver el número total de filas duplicadas\n",
    "num_duplicados = duplicados.sum()\n",
    "print(f\"Número de filas duplicadas: {num_duplicados}\")\n",
    "\n",
    "# Para ver las filas duplicadas (si quieres visualizarlas)\n",
    "filas_duplicadas = df[duplicados]\n",
    "print(\"\\nLas filas duplicadas son:\")\n",
    "filas_duplicadas"
   ]
  },
  {
   "cell_type": "markdown",
   "id": "0400ec49",
   "metadata": {},
   "source": [
    "se hace una revision de las filas que aparecen como duplicadas y se confirma que corresponden a la misma venta. \n",
    "por tanto, se eliminan"
   ]
  },
  {
   "cell_type": "code",
   "execution_count": 12,
   "id": "c2da0d47",
   "metadata": {},
   "outputs": [],
   "source": [
    "df = df.drop_duplicates()"
   ]
  },
  {
   "cell_type": "code",
   "execution_count": 13,
   "id": "4739f038",
   "metadata": {},
   "outputs": [
    {
     "data": {
      "text/plain": [
       "(112036, 18)"
      ]
     },
     "execution_count": 13,
     "metadata": {},
     "output_type": "execute_result"
    }
   ],
   "source": [
    "# Verificamos el numeor total de  filas y columnas\n",
    "df.shape"
   ]
  },
  {
   "cell_type": "markdown",
   "id": "f12f63ad",
   "metadata": {},
   "source": [
    "Se elimina la columna Customer Age ya que existe otra variable que agrupa las edades.\n",
    "y tambien se elimina Customer ID ya que es una variable que codifica al usuario y no es necesaria en el analisis"
   ]
  },
  {
   "cell_type": "code",
   "execution_count": 14,
   "id": "4ab2ff12",
   "metadata": {},
   "outputs": [],
   "source": [
    "# Eliminamos la columna Frame Size\n",
    "df = df.drop([\"Customer Age\", \"Customer ID\"], axis=1)"
   ]
  },
  {
   "cell_type": "markdown",
   "id": "1d38cd71",
   "metadata": {},
   "source": [
    "Se cambia la variable Date que contiene la fecha completa de la compra y se sustituye por una variable \"month\" que solo tendra el mes. se hace esto porque el año ya lo tenemos en otra variable y el dia de la compra no es importante en el analisis."
   ]
  },
  {
   "cell_type": "code",
   "execution_count": 15,
   "id": "4cd3c249",
   "metadata": {},
   "outputs": [],
   "source": [
    "# Convertir la columna 'date' a tipo datetime\n",
    "df['Date'] = pd.to_datetime(df['Date'], errors='coerce')\n",
    "\n",
    "# Extraer el mes como número (1 = enero, 12 = diciembre)\n",
    "df['month'] = df['Date'].dt.month\n",
    "\n",
    "# Si ya no quieres conservar la columna original:\n",
    "df = df.drop(columns=['Date'])\n",
    "\n",
    "# Reordenamos columnas para que month quede primero\n",
    "cols = ['month'] + [col for col in df.columns if col != 'month']\n",
    "df = df[cols]"
   ]
  },
  {
   "cell_type": "markdown",
   "id": "906f41a7",
   "metadata": {},
   "source": [
    "Se analizarán los valores de la columna Unit Cost "
   ]
  },
  {
   "cell_type": "code",
   "execution_count": 16,
   "id": "35976005",
   "metadata": {},
   "outputs": [
    {
     "data": {
      "application/vnd.microsoft.datawrangler.viewer.v0+json": {
       "columns": [
        {
         "name": "index",
         "rawType": "object",
         "type": "string"
        },
        {
         "name": "Unit Cost",
         "rawType": "float64",
         "type": "float"
        }
       ],
       "ref": "c4f82ce1-61bf-4835-8e30-740d38205684",
       "rows": [
        [
         "count",
         "112036.0"
        ],
        [
         "mean",
         "267.8196026277268"
        ],
        [
         "std",
         "550.2187216602596"
        ],
        [
         "min",
         "1.0"
        ],
        [
         "25%",
         "2.0"
        ],
        [
         "50%",
         "9.0"
        ],
        [
         "75%",
         "42.0"
        ],
        [
         "max",
         "2171.0"
        ]
       ],
       "shape": {
        "columns": 1,
        "rows": 8
       }
      },
      "text/plain": [
       "count    112036.000000\n",
       "mean        267.819603\n",
       "std         550.218722\n",
       "min           1.000000\n",
       "25%           2.000000\n",
       "50%           9.000000\n",
       "75%          42.000000\n",
       "max        2171.000000\n",
       "Name: Unit Cost, dtype: float64"
      ]
     },
     "execution_count": 16,
     "metadata": {},
     "output_type": "execute_result"
    }
   ],
   "source": [
    "df[\"Unit Cost\"].describe()"
   ]
  },
  {
   "cell_type": "code",
   "execution_count": 17,
   "id": "48b0a8d1",
   "metadata": {},
   "outputs": [
    {
     "data": {
      "image/png": "[encoded data removed]",
      "text/plain": [
       "<Figure size 600x500 with 1 Axes>"
      ]
     },
     "metadata": {},
     "output_type": "display_data"
    }
   ],
   "source": [
    "# Boxplot de Unit Cost\n",
    "plt.figure(figsize=(6, 5))\n",
    "sns.boxplot(y=df[\"Unit Cost\"], color=\"lightgreen\")\n",
    "plt.title(\"Boxplot de Unit Cost\")\n",
    "plt.xlabel(\"Unit Cost\")\n",
    "plt.ylabel(\"Value\")\n",
    "plt.show()"
   ]
  },
  {
   "cell_type": "markdown",
   "id": "90beb6f1",
   "metadata": {},
   "source": [
    "Observamos una gran cantidad de outliers en la grafica. se procede a investigar a que corresponden o si son valores \n",
    "erroneos."
   ]
  },
  {
   "cell_type": "code",
   "execution_count": 18,
   "id": "ee3f1c5d",
   "metadata": {},
   "outputs": [
    {
     "name": "stdout",
     "output_type": "stream",
     "text": [
      "La fila con el valor máximo en 'Unit Cost' es:\n",
      "month                              2\n",
      "year                            2012\n",
      "Age Group             Adults (35-64)\n",
      "Customer Gender                    M\n",
      "Country                United States\n",
      "State                     Washington\n",
      "Product Category               Bikes\n",
      "Sub Category              Road Bikes\n",
      "Product             Road-150 Red, 48\n",
      "Order Quantity                     2\n",
      "Unit Cost                       2171\n",
      "Unit Price                      3578\n",
      "Cost                            4342\n",
      "Revenue                         5582\n",
      "Profit                          1240\n",
      "target                             1\n",
      "Name: 58158, dtype: object\n"
     ]
    }
   ],
   "source": [
    "# Encontrar el índice de la fila con el valor máximo en 'Unit Cost'\n",
    "indice_maximo = df['Unit Cost'].idxmax()\n",
    "\n",
    "# Obtener y imprimir la fila completa usando el índice\n",
    "fila_con_maximo = df.loc[indice_maximo]\n",
    "print(\"La fila con el valor máximo en 'Unit Cost' es:\")\n",
    "print(fila_con_maximo)"
   ]
  },
  {
   "cell_type": "markdown",
   "id": "13da78db",
   "metadata": {},
   "source": [
    "Podemos concluir que los valores atipicos de la variable corresponden a valores de compra de articulos costosos que maneja la tienda como bicicletas. por tal motivo se dejan para el analisis."
   ]
  },
  {
   "cell_type": "markdown",
   "id": "d9ad88fa",
   "metadata": {},
   "source": [
    "Ahora procedemos a separar las variables numericas de las variables categoricas"
   ]
  },
  {
   "cell_type": "code",
   "execution_count": 19,
   "id": "299a4ec4",
   "metadata": {},
   "outputs": [
    {
     "data": {
      "text/plain": [
       "Index(['Age Group', 'Customer Gender', 'Country', 'State', 'Product Category',\n",
       "       'Sub Category', 'Product'],\n",
       "      dtype='object')"
      ]
     },
     "execution_count": 19,
     "metadata": {},
     "output_type": "execute_result"
    }
   ],
   "source": [
    "categorical_features = df.select_dtypes(include=['object']).columns\n",
    "categorical_features"
   ]
  },
  {
   "cell_type": "code",
   "execution_count": 20,
   "id": "844ba4fe",
   "metadata": {},
   "outputs": [
    {
     "data": {
      "text/plain": [
       "Index(['month', 'year', 'Order Quantity', 'Unit Cost', 'Unit Price', 'Cost',\n",
       "       'Revenue', 'Profit', 'target'],\n",
       "      dtype='object')"
      ]
     },
     "execution_count": 20,
     "metadata": {},
     "output_type": "execute_result"
    }
   ],
   "source": [
    "numerical_features = df.select_dtypes(include=['number']).columns\n",
    "numerical_features"
   ]
  },
  {
   "cell_type": "code",
   "execution_count": 21,
   "id": "f70824a8",
   "metadata": {},
   "outputs": [
    {
     "data": {
      "application/vnd.microsoft.datawrangler.viewer.v0+json": {
       "columns": [
        {
         "name": "index",
         "rawType": "int64",
         "type": "integer"
        },
        {
         "name": "month",
         "rawType": "int32",
         "type": "integer"
        },
        {
         "name": "year",
         "rawType": "int64",
         "type": "integer"
        },
        {
         "name": "Age Group",
         "rawType": "object",
         "type": "string"
        },
        {
         "name": "Customer Gender",
         "rawType": "object",
         "type": "string"
        },
        {
         "name": "Country",
         "rawType": "object",
         "type": "string"
        },
        {
         "name": "State",
         "rawType": "object",
         "type": "string"
        },
        {
         "name": "Product Category",
         "rawType": "object",
         "type": "string"
        },
        {
         "name": "Sub Category",
         "rawType": "object",
         "type": "string"
        },
        {
         "name": "Product",
         "rawType": "object",
         "type": "string"
        },
        {
         "name": "Order Quantity",
         "rawType": "int64",
         "type": "integer"
        },
        {
         "name": "Unit Cost",
         "rawType": "int64",
         "type": "integer"
        },
        {
         "name": "Unit Price",
         "rawType": "int64",
         "type": "integer"
        },
        {
         "name": "Cost",
         "rawType": "int64",
         "type": "integer"
        },
        {
         "name": "Revenue",
         "rawType": "int64",
         "type": "integer"
        },
        {
         "name": "Profit",
         "rawType": "int64",
         "type": "integer"
        },
        {
         "name": "target",
         "rawType": "int64",
         "type": "integer"
        }
       ],
       "ref": "f777de98-fc52-494c-b16f-2835f037c9b4",
       "rows": [
        [
         "0",
         "11",
         "2013",
         "Youth (<25)",
         "M",
         "Canada",
         "British Columbia",
         "Accessories",
         "Bike Racks",
         "Hitch Rack - 4-Bike",
         "8",
         "45",
         "120",
         "360",
         "950",
         "590",
         "1"
        ],
        [
         "1",
         "11",
         "2015",
         "Youth (<25)",
         "M",
         "Canada",
         "British Columbia",
         "Accessories",
         "Bike Racks",
         "Hitch Rack - 4-Bike",
         "8",
         "45",
         "120",
         "360",
         "950",
         "590",
         "1"
        ],
        [
         "2",
         "3",
         "2014",
         "Adults (35-64)",
         "M",
         "Australia",
         "New South Wales",
         "Accessories",
         "Bike Racks",
         "Hitch Rack - 4-Bike",
         "23",
         "45",
         "120",
         "1035",
         "2401",
         "1366",
         "1"
        ],
        [
         "3",
         "3",
         "2016",
         "Adults (35-64)",
         "M",
         "Australia",
         "New South Wales",
         "Accessories",
         "Bike Racks",
         "Hitch Rack - 4-Bike",
         "20",
         "45",
         "120",
         "900",
         "2088",
         "1188",
         "1"
        ],
        [
         "4",
         "5",
         "2014",
         "Adults (35-64)",
         "F",
         "Australia",
         "New South Wales",
         "Accessories",
         "Bike Racks",
         "Hitch Rack - 4-Bike",
         "4",
         "45",
         "120",
         "180",
         "418",
         "238",
         "1"
        ]
       ],
       "shape": {
        "columns": 16,
        "rows": 5
       }
      },
      "text/html": [
       "<div>\n",
       "<style scoped>\n",
       "    .dataframe tbody tr th:only-of-type {\n",
       "        vertical-align: middle;\n",
       "    }\n",
       "\n",
       "    .dataframe tbody tr th {\n",
       "        vertical-align: top;\n",
       "    }\n",
       "\n",
       "    .dataframe thead th {\n",
       "        text-align: right;\n",
       "    }\n",
       "</style>\n",
       "<table border=\"1\" class=\"dataframe\">\n",
       "  <thead>\n",
       "    <tr style=\"text-align: right;\">\n",
       "      <th></th>\n",
       "      <th>month</th>\n",
       "      <th>year</th>\n",
       "      <th>Age Group</th>\n",
       "      <th>Customer Gender</th>\n",
       "      <th>Country</th>\n",
       "      <th>State</th>\n",
       "      <th>Product Category</th>\n",
       "      <th>Sub Category</th>\n",
       "      <th>Product</th>\n",
       "      <th>Order Quantity</th>\n",
       "      <th>Unit Cost</th>\n",
       "      <th>Unit Price</th>\n",
       "      <th>Cost</th>\n",
       "      <th>Revenue</th>\n",
       "      <th>Profit</th>\n",
       "      <th>target</th>\n",
       "    </tr>\n",
       "  </thead>\n",
       "  <tbody>\n",
       "    <tr>\n",
       "      <th>0</th>\n",
       "      <td>11</td>\n",
       "      <td>2013</td>\n",
       "      <td>Youth (&lt;25)</td>\n",
       "      <td>M</td>\n",
       "      <td>Canada</td>\n",
       "      <td>British Columbia</td>\n",
       "      <td>Accessories</td>\n",
       "      <td>Bike Racks</td>\n",
       "      <td>Hitch Rack - 4-Bike</td>\n",
       "      <td>8</td>\n",
       "      <td>45</td>\n",
       "      <td>120</td>\n",
       "      <td>360</td>\n",
       "      <td>950</td>\n",
       "      <td>590</td>\n",
       "      <td>1</td>\n",
       "    </tr>\n",
       "    <tr>\n",
       "      <th>1</th>\n",
       "      <td>11</td>\n",
       "      <td>2015</td>\n",
       "      <td>Youth (&lt;25)</td>\n",
       "      <td>M</td>\n",
       "      <td>Canada</td>\n",
       "      <td>British Columbia</td>\n",
       "      <td>Accessories</td>\n",
       "      <td>Bike Racks</td>\n",
       "      <td>Hitch Rack - 4-Bike</td>\n",
       "      <td>8</td>\n",
       "      <td>45</td>\n",
       "      <td>120</td>\n",
       "      <td>360</td>\n",
       "      <td>950</td>\n",
       "      <td>590</td>\n",
       "      <td>1</td>\n",
       "    </tr>\n",
       "    <tr>\n",
       "      <th>2</th>\n",
       "      <td>3</td>\n",
       "      <td>2014</td>\n",
       "      <td>Adults (35-64)</td>\n",
       "      <td>M</td>\n",
       "      <td>Australia</td>\n",
       "      <td>New South Wales</td>\n",
       "      <td>Accessories</td>\n",
       "      <td>Bike Racks</td>\n",
       "      <td>Hitch Rack - 4-Bike</td>\n",
       "      <td>23</td>\n",
       "      <td>45</td>\n",
       "      <td>120</td>\n",
       "      <td>1035</td>\n",
       "      <td>2401</td>\n",
       "      <td>1366</td>\n",
       "      <td>1</td>\n",
       "    </tr>\n",
       "    <tr>\n",
       "      <th>3</th>\n",
       "      <td>3</td>\n",
       "      <td>2016</td>\n",
       "      <td>Adults (35-64)</td>\n",
       "      <td>M</td>\n",
       "      <td>Australia</td>\n",
       "      <td>New South Wales</td>\n",
       "      <td>Accessories</td>\n",
       "      <td>Bike Racks</td>\n",
       "      <td>Hitch Rack - 4-Bike</td>\n",
       "      <td>20</td>\n",
       "      <td>45</td>\n",
       "      <td>120</td>\n",
       "      <td>900</td>\n",
       "      <td>2088</td>\n",
       "      <td>1188</td>\n",
       "      <td>1</td>\n",
       "    </tr>\n",
       "    <tr>\n",
       "      <th>4</th>\n",
       "      <td>5</td>\n",
       "      <td>2014</td>\n",
       "      <td>Adults (35-64)</td>\n",
       "      <td>F</td>\n",
       "      <td>Australia</td>\n",
       "      <td>New South Wales</td>\n",
       "      <td>Accessories</td>\n",
       "      <td>Bike Racks</td>\n",
       "      <td>Hitch Rack - 4-Bike</td>\n",
       "      <td>4</td>\n",
       "      <td>45</td>\n",
       "      <td>120</td>\n",
       "      <td>180</td>\n",
       "      <td>418</td>\n",
       "      <td>238</td>\n",
       "      <td>1</td>\n",
       "    </tr>\n",
       "  </tbody>\n",
       "</table>\n",
       "</div>"
      ],
      "text/plain": [
       "   month  year       Age Group Customer Gender    Country             State  \\\n",
       "0     11  2013     Youth (<25)               M     Canada  British Columbia   \n",
       "1     11  2015     Youth (<25)               M     Canada  British Columbia   \n",
       "2      3  2014  Adults (35-64)               M  Australia   New South Wales   \n",
       "3      3  2016  Adults (35-64)               M  Australia   New South Wales   \n",
       "4      5  2014  Adults (35-64)               F  Australia   New South Wales   \n",
       "\n",
       "  Product Category Sub Category              Product  Order Quantity  \\\n",
       "0      Accessories   Bike Racks  Hitch Rack - 4-Bike               8   \n",
       "1      Accessories   Bike Racks  Hitch Rack - 4-Bike               8   \n",
       "2      Accessories   Bike Racks  Hitch Rack - 4-Bike              23   \n",
       "3      Accessories   Bike Racks  Hitch Rack - 4-Bike              20   \n",
       "4      Accessories   Bike Racks  Hitch Rack - 4-Bike               4   \n",
       "\n",
       "   Unit Cost  Unit Price  Cost  Revenue  Profit  target  \n",
       "0         45         120   360      950     590       1  \n",
       "1         45         120   360      950     590       1  \n",
       "2         45         120  1035     2401    1366       1  \n",
       "3         45         120   900     2088    1188       1  \n",
       "4         45         120   180      418     238       1  "
      ]
     },
     "execution_count": 21,
     "metadata": {},
     "output_type": "execute_result"
    }
   ],
   "source": [
    "df.head()"
   ]
  },
  {
   "cell_type": "markdown",
   "id": "339bef39",
   "metadata": {},
   "source": [
    "Se realiza la codificacion de las variables categoricas "
   ]
  },
  {
   "cell_type": "markdown",
   "id": "a9baa042",
   "metadata": {},
   "source": [
    "codificamos de forma ordinal la columna ** Age Group**"
   ]
  },
  {
   "cell_type": "code",
   "execution_count": 22,
   "id": "02a900ff",
   "metadata": {},
   "outputs": [],
   "source": [
    "age_order = {'-25': 1, '26-35': 2, '36-64': 3, '65+':4 }\n",
    "df['Age Group'] = df['Age Group'].map(age_order)"
   ]
  },
  {
   "cell_type": "markdown",
   "id": "75a32d7b",
   "metadata": {},
   "source": [
    "Utiliza **One-Hot encoding** para las siguientes variables: \"Product Category\", \"Sub Category\" "
   ]
  },
  {
   "cell_type": "code",
   "execution_count": 23,
   "id": "72c4cc16",
   "metadata": {},
   "outputs": [],
   "source": [
    "df = pd.get_dummies(\n",
    "    df, columns=[\"Country\",  \"State\", \"Product Category\", \"Sub Category\", \"Product\"])"
   ]
  },
  {
   "cell_type": "markdown",
   "id": "a403a431",
   "metadata": {},
   "source": [
    "CONCLUSIONES:\n",
    "\n",
    "- La preparacion de los datos es una parte crucial para el anilisis y creacion de modelos de IA. puesto que la toma de malas desiciones, puede causar errores en las prediciones.\n",
    "\n",
    "- Para la imputacion de datos faltantes y eliminacion de variables, es necesario que el investigador tenga un dominio del tema para poder hacerlo correctamente.\n",
    "\n",
    "- En cuanto a la codificacion de las variables categoricas, es importante utilizar el mejor metodo para cada una de ellas. y asi, simplificar el modelo."
   ]
  }
 ],
 "metadata": {
  "kernelspec": {
   "display_name": "Python 3",
   "language": "python",
   "name": "python3"
  },
  "language_info": {
   "codemirror_mode": {
    "name": "ipython",
    "version": 3
   },
   "file_extension": ".py",
   "mimetype": "text/x-python",
   "name": "python",
   "nbconvert_exporter": "python",
   "pygments_lexer": "ipython3",
   "version": "3.13.7"
  }
 },
 "nbformat": 4,
 "nbformat_minor": 5
}
