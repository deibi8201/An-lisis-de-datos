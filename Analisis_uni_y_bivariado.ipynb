{
 "cells": [
  {
   "cell_type": "markdown",
   "id": "502b1c59",
   "metadata": {},
   "source": [
    "<p><img height=\"45px\" src=\"https://drive.google.com/uc?id=1aJx1i5ecv6L6R5zUqK_ry6vuDnBDmprd\"align=\"left\" hspace=\"10px\" vspace=\"0px\"></p>\n",
    "\n",
    "<h1>ANALISIS UNIVARIADO Y BIVARIADO DE PROYECTO </h1>\n",
    "<br>"
   ]
  },
  {
   "cell_type": "markdown",
   "id": "7eaf2107",
   "metadata": {},
   "source": [
    "Por: Deibi Flavio Bastidas Ceron\n",
    "\n",
    "Presentado a: José Armando Ordoñez Cordoba"
   ]
  },
  {
   "cell_type": "markdown",
   "id": "e83cab78",
   "metadata": {},
   "source": [
    "# **Introducción**\n",
    "\n",
    "El análisis univariado es el análisis estadístico más simple, centrado en el estudio de una sola variable a la vez para describir sus características y patrones. Su objetivo es resumir y comprender la distribución de una única variable, utilizando medidas como la media, mediana, moda y desviación estándar, sin examinar relaciones o causas con otras variables. "
   ]
  },
  {
   "cell_type": "markdown",
   "id": "8583d9e6",
   "metadata": {},
   "source": [
    "\n",
    "\n",
    "World Cycling es una empresa multinacional dedicada a la venta de todo lo relacionado con el deporte del ciclismo. Esta empresa cuenta con varias sucursales distribuidas en distintos países y su stock de artículos de venta se relaciona con bicicletas, indumentaria y accesorios. La empresa enfrenta el desafío de comprender qué factores determinan la rentabilidad de sus ventas, ya que desconoce qué componentes clave (demográficos, geográficos o relacionados con los productos) tienen mayor impacto en el margen de ganancia por venta. La falta de claridad sobre qué elementos impulsan o reducen la rentabilidad limita la toma de decisiones estratégicas en áreas clave como marketing, ventas, compras y finanzas. Esta situación puede conducir a campañas mal dirigidas, precios ineficientes y una oferta de productos poco optimizada lo cual ocasiona una menor competitividad y pérdidas de oportunidades para maximizar beneficios. Identificar estos factores y desarrollar un modelo predictivo que clasifique transacciones como de alta o baja rentabilidad permitiría priorizar acciones en los segmentos más valiosos y optimizar tanto la oferta comercial como los recursos de la empresa.\n",
    "\n",
    "El dataset suministrado por la empresa, cuenta con gran cantidad de variables y datos que reflejan el historico de ventas de la empresa y que nos pueden servir para cumplir con la pregunta SMART propuesta en este ejercicio."
   ]
  },
  {
   "cell_type": "code",
   "execution_count": 24,
   "id": "9a7aa424",
   "metadata": {},
   "outputs": [],
   "source": [
    "# Importamos las librerías\n",
    "import pandas as pd\n",
    "import numpy as np\n",
    "from scipy import stats\n",
    "import matplotlib.pyplot as plt\n",
    "from matplotlib import rcParams\n",
    "import seaborn as sns\n",
    "import statistics as stat\n",
    "from scipy.stats import pearsonr, spearmanr,  kendalltau"
   ]
  },
  {
   "cell_type": "code",
   "execution_count": 25,
   "id": "dcddcf14",
   "metadata": {},
   "outputs": [],
   "source": [
    "# Cargamso el dataset\n",
    "url = 'bike data.csv'\n",
    "data = pd.read_csv(url)"
   ]
  },
  {
   "cell_type": "code",
   "execution_count": 26,
   "id": "17a05857",
   "metadata": {},
   "outputs": [],
   "source": [
    "# Convertimos el dataset en dataframe\n",
    "df = pd.DataFrame(data)"
   ]
  },
  {
   "cell_type": "code",
   "execution_count": 27,
   "id": "35229017",
   "metadata": {},
   "outputs": [],
   "source": [
    "# Creamos la variable target y la rellenamos de acuerdo a los valores definidos en la pregunta SMART\n",
    "# porsentaje de profit >= al 40% es 1 y < al 40% es 0\n",
    "\n",
    "df['target'] = ((((df['Unit Price']-df['Unit Cost']) / df['Unit Cost']) * 100) >= 40).astype('int')\n"
   ]
  },
  {
   "cell_type": "code",
   "execution_count": 28,
   "id": "4b5fdaec",
   "metadata": {},
   "outputs": [
    {
     "data": {
      "application/vnd.microsoft.datawrangler.viewer.v0+json": {
       "columns": [
        {
         "name": "target",
         "rawType": "int64",
         "type": "integer"
        },
        {
         "name": "count",
         "rawType": "int64",
         "type": "integer"
        }
       ],
       "ref": "020bc855-28a9-44f5-8f83-f72a4530f372",
       "rows": [
        [
         "1",
         "102668"
        ],
        [
         "0",
         "10368"
        ]
       ],
       "shape": {
        "columns": 1,
        "rows": 2
       }
      },
      "text/plain": [
       "target\n",
       "1    102668\n",
       "0     10368\n",
       "Name: count, dtype: int64"
      ]
     },
     "execution_count": 28,
     "metadata": {},
     "output_type": "execute_result"
    }
   ],
   "source": [
    "df['target'].value_counts()"
   ]
  },
  {
   "cell_type": "code",
   "execution_count": 29,
   "id": "fd57342c",
   "metadata": {},
   "outputs": [
    {
     "data": {
      "application/vnd.microsoft.datawrangler.viewer.v0+json": {
       "columns": [
        {
         "name": "index",
         "rawType": "int64",
         "type": "integer"
        },
        {
         "name": "Date",
         "rawType": "object",
         "type": "string"
        },
        {
         "name": "year",
         "rawType": "int64",
         "type": "integer"
        },
        {
         "name": "Customer ID",
         "rawType": "int64",
         "type": "integer"
        },
        {
         "name": "Customer Age",
         "rawType": "int64",
         "type": "integer"
        },
        {
         "name": "Age Group",
         "rawType": "object",
         "type": "string"
        },
        {
         "name": "Customer Gender",
         "rawType": "object",
         "type": "string"
        },
        {
         "name": "Country",
         "rawType": "object",
         "type": "string"
        },
        {
         "name": "State",
         "rawType": "object",
         "type": "string"
        },
        {
         "name": "Product Category",
         "rawType": "object",
         "type": "string"
        },
        {
         "name": "Sub Category",
         "rawType": "object",
         "type": "string"
        },
        {
         "name": "Product",
         "rawType": "object",
         "type": "string"
        },
        {
         "name": "Frame Size",
         "rawType": "float64",
         "type": "float"
        },
        {
         "name": "Order Quantity",
         "rawType": "int64",
         "type": "integer"
        },
        {
         "name": "Unit Cost",
         "rawType": "int64",
         "type": "integer"
        },
        {
         "name": "Unit Price",
         "rawType": "int64",
         "type": "integer"
        },
        {
         "name": "Cost",
         "rawType": "int64",
         "type": "integer"
        },
        {
         "name": "Revenue",
         "rawType": "int64",
         "type": "integer"
        },
        {
         "name": "Profit",
         "rawType": "int64",
         "type": "integer"
        },
        {
         "name": "target",
         "rawType": "int64",
         "type": "integer"
        }
       ],
       "ref": "56a27d3a-2cbd-49d8-b0d3-5f329066ccfc",
       "rows": [
        [
         "0",
         "11/26/2013",
         "2013",
         "11019",
         "19",
         "Youth (<25)",
         "M",
         "Canada",
         "British Columbia",
         "Accessories",
         "Bike Racks",
         "Hitch Rack - 4-Bike",
         null,
         "8",
         "45",
         "120",
         "360",
         "950",
         "590",
         "1"
        ],
        [
         "1",
         "11/26/2015",
         "2015",
         "11019",
         "19",
         "Youth (<25)",
         "M",
         "Canada",
         "British Columbia",
         "Accessories",
         "Bike Racks",
         "Hitch Rack - 4-Bike",
         null,
         "8",
         "45",
         "120",
         "360",
         "950",
         "590",
         "1"
        ],
        [
         "2",
         "3/23/2014",
         "2014",
         "11039",
         "49",
         "Adults (35-64)",
         "M",
         "Australia",
         "New South Wales",
         "Accessories",
         "Bike Racks",
         "Hitch Rack - 4-Bike",
         null,
         "23",
         "45",
         "120",
         "1035",
         "2401",
         "1366",
         "1"
        ],
        [
         "3",
         "3/23/2016",
         "2016",
         "11039",
         "49",
         "Adults (35-64)",
         "M",
         "Australia",
         "New South Wales",
         "Accessories",
         "Bike Racks",
         "Hitch Rack - 4-Bike",
         null,
         "20",
         "45",
         "120",
         "900",
         "2088",
         "1188",
         "1"
        ],
        [
         "4",
         "5/15/2014",
         "2014",
         "11046",
         "47",
         "Adults (35-64)",
         "F",
         "Australia",
         "New South Wales",
         "Accessories",
         "Bike Racks",
         "Hitch Rack - 4-Bike",
         null,
         "4",
         "45",
         "120",
         "180",
         "418",
         "238",
         "1"
        ]
       ],
       "shape": {
        "columns": 19,
        "rows": 5
       }
      },
      "text/html": [
       "<div>\n",
       "<style scoped>\n",
       "    .dataframe tbody tr th:only-of-type {\n",
       "        vertical-align: middle;\n",
       "    }\n",
       "\n",
       "    .dataframe tbody tr th {\n",
       "        vertical-align: top;\n",
       "    }\n",
       "\n",
       "    .dataframe thead th {\n",
       "        text-align: right;\n",
       "    }\n",
       "</style>\n",
       "<table border=\"1\" class=\"dataframe\">\n",
       "  <thead>\n",
       "    <tr style=\"text-align: right;\">\n",
       "      <th></th>\n",
       "      <th>Date</th>\n",
       "      <th>year</th>\n",
       "      <th>Customer ID</th>\n",
       "      <th>Customer Age</th>\n",
       "      <th>Age Group</th>\n",
       "      <th>Customer Gender</th>\n",
       "      <th>Country</th>\n",
       "      <th>State</th>\n",
       "      <th>Product Category</th>\n",
       "      <th>Sub Category</th>\n",
       "      <th>Product</th>\n",
       "      <th>Frame Size</th>\n",
       "      <th>Order Quantity</th>\n",
       "      <th>Unit Cost</th>\n",
       "      <th>Unit Price</th>\n",
       "      <th>Cost</th>\n",
       "      <th>Revenue</th>\n",
       "      <th>Profit</th>\n",
       "      <th>target</th>\n",
       "    </tr>\n",
       "  </thead>\n",
       "  <tbody>\n",
       "    <tr>\n",
       "      <th>0</th>\n",
       "      <td>11/26/2013</td>\n",
       "      <td>2013</td>\n",
       "      <td>11019</td>\n",
       "      <td>19</td>\n",
       "      <td>Youth (&lt;25)</td>\n",
       "      <td>M</td>\n",
       "      <td>Canada</td>\n",
       "      <td>British Columbia</td>\n",
       "      <td>Accessories</td>\n",
       "      <td>Bike Racks</td>\n",
       "      <td>Hitch Rack - 4-Bike</td>\n",
       "      <td>NaN</td>\n",
       "      <td>8</td>\n",
       "      <td>45</td>\n",
       "      <td>120</td>\n",
       "      <td>360</td>\n",
       "      <td>950</td>\n",
       "      <td>590</td>\n",
       "      <td>1</td>\n",
       "    </tr>\n",
       "    <tr>\n",
       "      <th>1</th>\n",
       "      <td>11/26/2015</td>\n",
       "      <td>2015</td>\n",
       "      <td>11019</td>\n",
       "      <td>19</td>\n",
       "      <td>Youth (&lt;25)</td>\n",
       "      <td>M</td>\n",
       "      <td>Canada</td>\n",
       "      <td>British Columbia</td>\n",
       "      <td>Accessories</td>\n",
       "      <td>Bike Racks</td>\n",
       "      <td>Hitch Rack - 4-Bike</td>\n",
       "      <td>NaN</td>\n",
       "      <td>8</td>\n",
       "      <td>45</td>\n",
       "      <td>120</td>\n",
       "      <td>360</td>\n",
       "      <td>950</td>\n",
       "      <td>590</td>\n",
       "      <td>1</td>\n",
       "    </tr>\n",
       "    <tr>\n",
       "      <th>2</th>\n",
       "      <td>3/23/2014</td>\n",
       "      <td>2014</td>\n",
       "      <td>11039</td>\n",
       "      <td>49</td>\n",
       "      <td>Adults (35-64)</td>\n",
       "      <td>M</td>\n",
       "      <td>Australia</td>\n",
       "      <td>New South Wales</td>\n",
       "      <td>Accessories</td>\n",
       "      <td>Bike Racks</td>\n",
       "      <td>Hitch Rack - 4-Bike</td>\n",
       "      <td>NaN</td>\n",
       "      <td>23</td>\n",
       "      <td>45</td>\n",
       "      <td>120</td>\n",
       "      <td>1035</td>\n",
       "      <td>2401</td>\n",
       "      <td>1366</td>\n",
       "      <td>1</td>\n",
       "    </tr>\n",
       "    <tr>\n",
       "      <th>3</th>\n",
       "      <td>3/23/2016</td>\n",
       "      <td>2016</td>\n",
       "      <td>11039</td>\n",
       "      <td>49</td>\n",
       "      <td>Adults (35-64)</td>\n",
       "      <td>M</td>\n",
       "      <td>Australia</td>\n",
       "      <td>New South Wales</td>\n",
       "      <td>Accessories</td>\n",
       "      <td>Bike Racks</td>\n",
       "      <td>Hitch Rack - 4-Bike</td>\n",
       "      <td>NaN</td>\n",
       "      <td>20</td>\n",
       "      <td>45</td>\n",
       "      <td>120</td>\n",
       "      <td>900</td>\n",
       "      <td>2088</td>\n",
       "      <td>1188</td>\n",
       "      <td>1</td>\n",
       "    </tr>\n",
       "    <tr>\n",
       "      <th>4</th>\n",
       "      <td>5/15/2014</td>\n",
       "      <td>2014</td>\n",
       "      <td>11046</td>\n",
       "      <td>47</td>\n",
       "      <td>Adults (35-64)</td>\n",
       "      <td>F</td>\n",
       "      <td>Australia</td>\n",
       "      <td>New South Wales</td>\n",
       "      <td>Accessories</td>\n",
       "      <td>Bike Racks</td>\n",
       "      <td>Hitch Rack - 4-Bike</td>\n",
       "      <td>NaN</td>\n",
       "      <td>4</td>\n",
       "      <td>45</td>\n",
       "      <td>120</td>\n",
       "      <td>180</td>\n",
       "      <td>418</td>\n",
       "      <td>238</td>\n",
       "      <td>1</td>\n",
       "    </tr>\n",
       "  </tbody>\n",
       "</table>\n",
       "</div>"
      ],
      "text/plain": [
       "         Date  year  Customer ID  Customer Age       Age Group  \\\n",
       "0  11/26/2013  2013        11019            19     Youth (<25)   \n",
       "1  11/26/2015  2015        11019            19     Youth (<25)   \n",
       "2   3/23/2014  2014        11039            49  Adults (35-64)   \n",
       "3   3/23/2016  2016        11039            49  Adults (35-64)   \n",
       "4   5/15/2014  2014        11046            47  Adults (35-64)   \n",
       "\n",
       "  Customer Gender    Country             State Product Category Sub Category  \\\n",
       "0               M     Canada  British Columbia      Accessories   Bike Racks   \n",
       "1               M     Canada  British Columbia      Accessories   Bike Racks   \n",
       "2               M  Australia   New South Wales      Accessories   Bike Racks   \n",
       "3               M  Australia   New South Wales      Accessories   Bike Racks   \n",
       "4               F  Australia   New South Wales      Accessories   Bike Racks   \n",
       "\n",
       "               Product  Frame Size  Order Quantity  Unit Cost  Unit Price  \\\n",
       "0  Hitch Rack - 4-Bike         NaN               8         45         120   \n",
       "1  Hitch Rack - 4-Bike         NaN               8         45         120   \n",
       "2  Hitch Rack - 4-Bike         NaN              23         45         120   \n",
       "3  Hitch Rack - 4-Bike         NaN              20         45         120   \n",
       "4  Hitch Rack - 4-Bike         NaN               4         45         120   \n",
       "\n",
       "   Cost  Revenue  Profit  target  \n",
       "0   360      950     590       1  \n",
       "1   360      950     590       1  \n",
       "2  1035     2401    1366       1  \n",
       "3   900     2088    1188       1  \n",
       "4   180      418     238       1  "
      ]
     },
     "execution_count": 29,
     "metadata": {},
     "output_type": "execute_result"
    }
   ],
   "source": [
    "df.head()"
   ]
  },
  {
   "cell_type": "code",
   "execution_count": 30,
   "id": "68c9a8c5",
   "metadata": {},
   "outputs": [
    {
     "data": {
      "application/vnd.microsoft.datawrangler.viewer.v0+json": {
       "columns": [
        {
         "name": "index",
         "rawType": "object",
         "type": "string"
        },
        {
         "name": "year",
         "rawType": "float64",
         "type": "float"
        },
        {
         "name": "Customer ID",
         "rawType": "float64",
         "type": "float"
        },
        {
         "name": "Customer Age",
         "rawType": "float64",
         "type": "float"
        },
        {
         "name": "Frame Size",
         "rawType": "float64",
         "type": "float"
        },
        {
         "name": "Order Quantity",
         "rawType": "float64",
         "type": "float"
        },
        {
         "name": "Unit Cost",
         "rawType": "float64",
         "type": "float"
        },
        {
         "name": "Unit Price",
         "rawType": "float64",
         "type": "float"
        },
        {
         "name": "Cost",
         "rawType": "float64",
         "type": "float"
        },
        {
         "name": "Revenue",
         "rawType": "float64",
         "type": "float"
        },
        {
         "name": "Profit",
         "rawType": "float64",
         "type": "float"
        },
        {
         "name": "target",
         "rawType": "float64",
         "type": "float"
        }
       ],
       "ref": "77574fbe-f9d8-4b04-b5ce-8d456362f1f6",
       "rows": [
        [
         "count",
         "113036.0",
         "113036.0",
         "113036.0",
         "25982.0",
         "113036.0",
         "113036.0",
         "113036.0",
         "113036.0",
         "113036.0",
         "113036.0",
         "113036.0"
        ],
        [
         "mean",
         "2014.4017392689054",
         "19227.874340917937",
         "35.91921157861212",
         "47.313062889692866",
         "11.901659648253654",
         "267.296365759581",
         "452.9384266959199",
         "469.3186949290492",
         "754.3703598853463",
         "285.0516649562971",
         "0.9082770090944478"
        ],
        [
         "std",
         "1.2725103861593707",
         "5307.581301690812",
         "11.021935623682777",
         "6.860796899786554",
         "9.561856759549377",
         "549.8354831075126",
         "922.0712193270648",
         "884.8661177053633",
         "1309.094673526968",
         "453.88744305571424",
         "0.28863579277736623"
        ],
        [
         "min",
         "2011.0",
         "11000.0",
         "17.0",
         "38.0",
         "1.0",
         "1.0",
         "2.0",
         "1.0",
         "2.0",
         "-30.0",
         "0.0"
        ],
        [
         "25%",
         "2013.0",
         "14611.0",
         "28.0",
         "42.0",
         "2.0",
         "2.0",
         "5.0",
         "28.0",
         "63.0",
         "29.0",
         "1.0"
        ],
        [
         "50%",
         "2014.0",
         "18664.0",
         "35.0",
         "46.0",
         "10.0",
         "9.0",
         "24.0",
         "108.0",
         "223.0",
         "101.0",
         "1.0"
        ],
        [
         "75%",
         "2016.0",
         "23475.0",
         "43.0",
         "52.0",
         "20.0",
         "42.0",
         "70.0",
         "432.0",
         "800.0",
         "358.0",
         "1.0"
        ],
        [
         "max",
         "2016.0",
         "29483.0",
         "87.0",
         "62.0",
         "32.0",
         "2171.0",
         "3578.0",
         "42978.0",
         "58074.0",
         "15096.0",
         "1.0"
        ]
       ],
       "shape": {
        "columns": 11,
        "rows": 8
       }
      },
      "text/html": [
       "<div>\n",
       "<style scoped>\n",
       "    .dataframe tbody tr th:only-of-type {\n",
       "        vertical-align: middle;\n",
       "    }\n",
       "\n",
       "    .dataframe tbody tr th {\n",
       "        vertical-align: top;\n",
       "    }\n",
       "\n",
       "    .dataframe thead th {\n",
       "        text-align: right;\n",
       "    }\n",
       "</style>\n",
       "<table border=\"1\" class=\"dataframe\">\n",
       "  <thead>\n",
       "    <tr style=\"text-align: right;\">\n",
       "      <th></th>\n",
       "      <th>year</th>\n",
       "      <th>Customer ID</th>\n",
       "      <th>Customer Age</th>\n",
       "      <th>Frame Size</th>\n",
       "      <th>Order Quantity</th>\n",
       "      <th>Unit Cost</th>\n",
       "      <th>Unit Price</th>\n",
       "      <th>Cost</th>\n",
       "      <th>Revenue</th>\n",
       "      <th>Profit</th>\n",
       "      <th>target</th>\n",
       "    </tr>\n",
       "  </thead>\n",
       "  <tbody>\n",
       "    <tr>\n",
       "      <th>count</th>\n",
       "      <td>113036.000000</td>\n",
       "      <td>113036.000000</td>\n",
       "      <td>113036.000000</td>\n",
       "      <td>25982.000000</td>\n",
       "      <td>113036.000000</td>\n",
       "      <td>113036.000000</td>\n",
       "      <td>113036.000000</td>\n",
       "      <td>113036.000000</td>\n",
       "      <td>113036.000000</td>\n",
       "      <td>113036.000000</td>\n",
       "      <td>113036.000000</td>\n",
       "    </tr>\n",
       "    <tr>\n",
       "      <th>mean</th>\n",
       "      <td>2014.401739</td>\n",
       "      <td>19227.874341</td>\n",
       "      <td>35.919212</td>\n",
       "      <td>47.313063</td>\n",
       "      <td>11.901660</td>\n",
       "      <td>267.296366</td>\n",
       "      <td>452.938427</td>\n",
       "      <td>469.318695</td>\n",
       "      <td>754.370360</td>\n",
       "      <td>285.051665</td>\n",
       "      <td>0.908277</td>\n",
       "    </tr>\n",
       "    <tr>\n",
       "      <th>std</th>\n",
       "      <td>1.272510</td>\n",
       "      <td>5307.581302</td>\n",
       "      <td>11.021936</td>\n",
       "      <td>6.860797</td>\n",
       "      <td>9.561857</td>\n",
       "      <td>549.835483</td>\n",
       "      <td>922.071219</td>\n",
       "      <td>884.866118</td>\n",
       "      <td>1309.094674</td>\n",
       "      <td>453.887443</td>\n",
       "      <td>0.288636</td>\n",
       "    </tr>\n",
       "    <tr>\n",
       "      <th>min</th>\n",
       "      <td>2011.000000</td>\n",
       "      <td>11000.000000</td>\n",
       "      <td>17.000000</td>\n",
       "      <td>38.000000</td>\n",
       "      <td>1.000000</td>\n",
       "      <td>1.000000</td>\n",
       "      <td>2.000000</td>\n",
       "      <td>1.000000</td>\n",
       "      <td>2.000000</td>\n",
       "      <td>-30.000000</td>\n",
       "      <td>0.000000</td>\n",
       "    </tr>\n",
       "    <tr>\n",
       "      <th>25%</th>\n",
       "      <td>2013.000000</td>\n",
       "      <td>14611.000000</td>\n",
       "      <td>28.000000</td>\n",
       "      <td>42.000000</td>\n",
       "      <td>2.000000</td>\n",
       "      <td>2.000000</td>\n",
       "      <td>5.000000</td>\n",
       "      <td>28.000000</td>\n",
       "      <td>63.000000</td>\n",
       "      <td>29.000000</td>\n",
       "      <td>1.000000</td>\n",
       "    </tr>\n",
       "    <tr>\n",
       "      <th>50%</th>\n",
       "      <td>2014.000000</td>\n",
       "      <td>18664.000000</td>\n",
       "      <td>35.000000</td>\n",
       "      <td>46.000000</td>\n",
       "      <td>10.000000</td>\n",
       "      <td>9.000000</td>\n",
       "      <td>24.000000</td>\n",
       "      <td>108.000000</td>\n",
       "      <td>223.000000</td>\n",
       "      <td>101.000000</td>\n",
       "      <td>1.000000</td>\n",
       "    </tr>\n",
       "    <tr>\n",
       "      <th>75%</th>\n",
       "      <td>2016.000000</td>\n",
       "      <td>23475.000000</td>\n",
       "      <td>43.000000</td>\n",
       "      <td>52.000000</td>\n",
       "      <td>20.000000</td>\n",
       "      <td>42.000000</td>\n",
       "      <td>70.000000</td>\n",
       "      <td>432.000000</td>\n",
       "      <td>800.000000</td>\n",
       "      <td>358.000000</td>\n",
       "      <td>1.000000</td>\n",
       "    </tr>\n",
       "    <tr>\n",
       "      <th>max</th>\n",
       "      <td>2016.000000</td>\n",
       "      <td>29483.000000</td>\n",
       "      <td>87.000000</td>\n",
       "      <td>62.000000</td>\n",
       "      <td>32.000000</td>\n",
       "      <td>2171.000000</td>\n",
       "      <td>3578.000000</td>\n",
       "      <td>42978.000000</td>\n",
       "      <td>58074.000000</td>\n",
       "      <td>15096.000000</td>\n",
       "      <td>1.000000</td>\n",
       "    </tr>\n",
       "  </tbody>\n",
       "</table>\n",
       "</div>"
      ],
      "text/plain": [
       "                year    Customer ID   Customer Age    Frame Size  \\\n",
       "count  113036.000000  113036.000000  113036.000000  25982.000000   \n",
       "mean     2014.401739   19227.874341      35.919212     47.313063   \n",
       "std         1.272510    5307.581302      11.021936      6.860797   \n",
       "min      2011.000000   11000.000000      17.000000     38.000000   \n",
       "25%      2013.000000   14611.000000      28.000000     42.000000   \n",
       "50%      2014.000000   18664.000000      35.000000     46.000000   \n",
       "75%      2016.000000   23475.000000      43.000000     52.000000   \n",
       "max      2016.000000   29483.000000      87.000000     62.000000   \n",
       "\n",
       "       Order Quantity      Unit Cost     Unit Price           Cost  \\\n",
       "count   113036.000000  113036.000000  113036.000000  113036.000000   \n",
       "mean        11.901660     267.296366     452.938427     469.318695   \n",
       "std          9.561857     549.835483     922.071219     884.866118   \n",
       "min          1.000000       1.000000       2.000000       1.000000   \n",
       "25%          2.000000       2.000000       5.000000      28.000000   \n",
       "50%         10.000000       9.000000      24.000000     108.000000   \n",
       "75%         20.000000      42.000000      70.000000     432.000000   \n",
       "max         32.000000    2171.000000    3578.000000   42978.000000   \n",
       "\n",
       "             Revenue         Profit         target  \n",
       "count  113036.000000  113036.000000  113036.000000  \n",
       "mean      754.370360     285.051665       0.908277  \n",
       "std      1309.094674     453.887443       0.288636  \n",
       "min         2.000000     -30.000000       0.000000  \n",
       "25%        63.000000      29.000000       1.000000  \n",
       "50%       223.000000     101.000000       1.000000  \n",
       "75%       800.000000     358.000000       1.000000  \n",
       "max     58074.000000   15096.000000       1.000000  "
      ]
     },
     "execution_count": 30,
     "metadata": {},
     "output_type": "execute_result"
    }
   ],
   "source": [
    "df.describe()"
   ]
  },
  {
   "cell_type": "markdown",
   "id": "e87f327e",
   "metadata": {},
   "source": [
    "# **ELECCION DE LA VARIABLE PARA REALIZAR EL ANALISIS UNIVARIADO**\n",
    "\n",
    "Se ha elegido la variable \"Unit Cost\" por los siguientes motivos:\n",
    "\n",
    "“Unit Cost” o costo unitario indica el valor de adquisición de cada producto. Este dato es importante en la clasificación de rentabilidad que se quiere realizar, puesto que al generar la variable “target”, la formula que se utiliza para ello recure a la variable en mención. \n"
   ]
  },
  {
   "cell_type": "code",
   "execution_count": 31,
   "id": "f0b6f180",
   "metadata": {},
   "outputs": [
    {
     "data": {
      "text/plain": [
       "np.int64(0)"
      ]
     },
     "execution_count": 31,
     "metadata": {},
     "output_type": "execute_result"
    }
   ],
   "source": [
    "# Verificamos si la variable Unit Cost tiene valores nulos\n",
    "df[\"Unit Cost\"].isnull().sum()"
   ]
  },
  {
   "cell_type": "code",
   "execution_count": 32,
   "id": "edbd702f",
   "metadata": {},
   "outputs": [
    {
     "data": {
      "application/vnd.microsoft.datawrangler.viewer.v0+json": {
       "columns": [
        {
         "name": "index",
         "rawType": "object",
         "type": "string"
        },
        {
         "name": "Unit Cost",
         "rawType": "float64",
         "type": "float"
        }
       ],
       "ref": "de8c44a9-6be2-44a7-8257-3044f5c04c5b",
       "rows": [
        [
         "count",
         "113036.0"
        ],
        [
         "mean",
         "267.296365759581"
        ],
        [
         "std",
         "549.8354831075126"
        ],
        [
         "min",
         "1.0"
        ],
        [
         "25%",
         "2.0"
        ],
        [
         "50%",
         "9.0"
        ],
        [
         "75%",
         "42.0"
        ],
        [
         "max",
         "2171.0"
        ]
       ],
       "shape": {
        "columns": 1,
        "rows": 8
       }
      },
      "text/plain": [
       "count    113036.000000\n",
       "mean        267.296366\n",
       "std         549.835483\n",
       "min           1.000000\n",
       "25%           2.000000\n",
       "50%           9.000000\n",
       "75%          42.000000\n",
       "max        2171.000000\n",
       "Name: Unit Cost, dtype: float64"
      ]
     },
     "execution_count": 32,
     "metadata": {},
     "output_type": "execute_result"
    }
   ],
   "source": [
    "# miramos los valores estadisticos de la variable seleccionada. estos valores nos dan una primer vision de la\n",
    "# distribucion de la variable \n",
    "df[\"Unit Cost\"].describe()\n"
   ]
  },
  {
   "cell_type": "code",
   "execution_count": 33,
   "id": "5302c68a",
   "metadata": {},
   "outputs": [
    {
     "name": "stdout",
     "output_type": "stream",
     "text": [
      "0    2\n",
      "Name: Unit Cost, dtype: int64\n"
     ]
    }
   ],
   "source": [
    "moda = df['Unit Cost'].mode()\n",
    "print(moda)"
   ]
  },
  {
   "cell_type": "markdown",
   "id": "d718ea64",
   "metadata": {},
   "source": [
    "De acuerdo al resumen estadistico de la variable Unit Cost podemos observar lo sigueinte:\n",
    "\n",
    "- El valor minimo (1) y maximo (2171) informa de una alta dispercion de los datos de la variable. lo que se confirma con una alta desviacion estandar std (549.8).\n",
    "\n",
    "- La media (267) está muy por encima de la mediana (9): lo que indica una distribución sesgada a la derecha. Los productos con costos muy altos “empujan” el promedio hacia arriba.\n",
    "\n",
    "- La desviación estándar alta confirma que hay una gran dispersión y presencia de valores extremos (outliers). que de acuerdo a la revision de los datos, estos son valores reales que corresponden a articulos costosos como por ejemplo: Bicicletas. "
   ]
  },
  {
   "cell_type": "code",
   "execution_count": 34,
   "id": "b592753c",
   "metadata": {},
   "outputs": [
    {
     "data": {
      "image/png": "[encoded data removed]",
      "text/plain": [
       "<Figure size 800x600 with 1 Axes>"
      ]
     },
     "metadata": {},
     "output_type": "display_data"
    }
   ],
   "source": [
    "# Histograma de Unit Cost\n",
    "plt.figure(figsize=(8, 6))\n",
    "sns.histplot(df[\"Unit Cost\"], bins=30, kde=True, color=\"skyblue\")\n",
    "plt.title(\"Distribución de Unit Cost\")\n",
    "plt.xlabel(\"Unit Cost\")\n",
    "plt.ylabel(\"Frecuencia\")\n",
    "plt.show()"
   ]
  },
  {
   "cell_type": "markdown",
   "id": "e5ea1f37",
   "metadata": {},
   "source": [
    "De acuerdo al histograma se puede afirmar lo sigueinte:\n",
    "\n",
    "- La variable Unit Cost presenta una distribución sesgada hacia la derecha, lo que indica que la mayoría de los productos que se venden tienen costos unitarios bajos.\n",
    "\n",
    "- Existen algunos productos con costos mucho más altos y que se venden en menor cantidad, lo que genera una “cola” en la distribución."
   ]
  },
  {
   "cell_type": "code",
   "execution_count": 35,
   "id": "3a1d6fcc",
   "metadata": {},
   "outputs": [
    {
     "data": {
      "image/png": "[encoded data removed]",
      "text/plain": [
       "<Figure size 600x500 with 1 Axes>"
      ]
     },
     "metadata": {},
     "output_type": "display_data"
    }
   ],
   "source": [
    "# Boxplot de Unit Cost\n",
    "plt.figure(figsize=(6, 5))\n",
    "sns.boxplot(y=df[\"Unit Cost\"], color=\"lightgreen\")\n",
    "plt.title(\"Boxplot de Unit Cost\")\n",
    "plt.xlabel(\"Unit Cost\")\n",
    "plt.ylabel(\"Value\")\n",
    "plt.show()"
   ]
  },
  {
   "cell_type": "markdown",
   "id": "7648f3c0",
   "metadata": {},
   "source": [
    "- El boxplot muestra que la mediana de Unit Cost está concentrada en un rango bajo. lo que indica que los productos mas vendidos son los de valores bajos\n",
    "\n",
    "- Se identifican outliers importantes, que corresponden a productos de costo elevado. Estos pueden representar artículos premium o especializados y deben ser tenidos en cuenta en el analsiis."
   ]
  },
  {
   "cell_type": "markdown",
   "id": "019010f4",
   "metadata": {},
   "source": [
    "# **CONCLUSIONES**\n",
    "\n",
    "Del analisis univariado realizado con la variable \"Unit Cost\" podemos concluir que:\n",
    "\n",
    "- La distribucion sergada que presenta la variable predictora, nos informa de la alta rotacion de productos de bajo valor y una baja rotacion de productos de mediano y alto valor.\n",
    "\n",
    "- Ambos gráficos indican una fuerte asimetría o un sesgo a la derecha.\n",
    "\n",
    "- la mayoría de los datos de la variable \"Unit Cost\" son muy bajos, pero existen algunos costos extremadamente altos que, aunque son poco comunes, afectan la distribución de la variable, como se evidencia por el sesgo y la presencia de numerosos valores atípicos."
   ]
  },
  {
   "cell_type": "markdown",
   "id": "02e31a79",
   "metadata": {},
   "source": [
    "# **ELECCION DE DOS VARIABLES PARA REALIZAR EL ANALISIS BIVARIADO**\n",
    "\n",
    "Se ha elegido las variables \"Unit Cost\" y \"target\" por los siguientes motivos:\n",
    "\n",
    "la variable predictora “Unit Cost” es esencial en la construccion de la variable objetivo \"target\" por ello, estudiaremos su relacion.\n"
   ]
  },
  {
   "cell_type": "code",
   "execution_count": 41,
   "id": "afb1bff5",
   "metadata": {},
   "outputs": [
    {
     "name": "stderr",
     "output_type": "stream",
     "text": [
      "C:\\Users\\deibi\\AppData\\Local\\Temp\\ipykernel_10468\\1095445986.py:3: FutureWarning: \n",
      "\n",
      "Passing `palette` without assigning `hue` is deprecated and will be removed in v0.14.0. Assign the `x` variable to `hue` and set `legend=False` for the same effect.\n",
      "\n",
      "  sns.boxplot(data=df, x=\"target\", y=\"Unit Cost\", palette=\"Set2\")\n"
     ]
    },
    {
     "data": {
      "image/png": "[encoded data removed]",
      "text/plain": [
       "<Figure size 800x600 with 1 Axes>"
      ]
     },
     "metadata": {},
     "output_type": "display_data"
    }
   ],
   "source": [
    "# Relación con la variable target\n",
    "plt.figure(figsize=(8, 6))\n",
    "sns.boxplot(data=df, x=\"target\", y=\"Unit Cost\", palette=\"Set2\")\n",
    "plt.title(\"Relación entre Unit Cost y Target\")\n",
    "plt.xlabel(\"Target\")\n",
    "plt.ylabel(\"Unit Cost\")\n",
    "plt.show()"
   ]
  },
  {
   "cell_type": "markdown",
   "id": "857eba8f",
   "metadata": {},
   "source": [
    "Relación de la variable \"Unit Cost\" con la variable objetivo \"target\" mediante un grafico Boxplot en donde nos muestra Cómo se distribuyen los valores de Unit Cost según cada clase de la variable objetivo.\n",
    "\n",
    "- se observa que las clases presentan diferencias claras en sus rangos lo que importante en la clasificacion d ela variable objetivo.\n",
    "\n",
    "- Existe una clara diferencia entre los dos grupos. Un Costo por unidad bajo está fuertemente asociado con un Objetivo de 0, mientras que un Costo por unidad más alto y con mucha más variabilidad está asociado con un Objetivo de 1."
   ]
  },
  {
   "cell_type": "code",
   "execution_count": 42,
   "id": "77349a1c",
   "metadata": {},
   "outputs": [
    {
     "data": {
      "image/png": "[encoded data removed]",
      "text/plain": [
       "<Figure size 800x600 with 1 Axes>"
      ]
     },
     "metadata": {},
     "output_type": "display_data"
    }
   ],
   "source": [
    "# Histograma de Unit Cost\n",
    "plt.figure(figsize=(8, 6))\n",
    "sns.histplot(data=df, x=\"target\", y=\"Unit Cost\", bins=30, kde=True, color=\"skyblue\")\n",
    "plt.title(\"Distribución\")\n",
    "plt.xlabel(\"target\")\n",
    "plt.ylabel(\"Unit Cost\")\n",
    "plt.show()"
   ]
  },
  {
   "cell_type": "markdown",
   "id": "e6dd50b2",
   "metadata": {},
   "source": [
    "El gráfico muestra una clara diferencia en la distribución de \"Unit Cost\" entre las dos categorías. La categoría \"target\" = 0 está muy concentrada en un valor bajo, mientras que la categoría \"target\" = 1 muestra una dispersión mucho mayor de valores, con costos que van desde un rango bajo hasta muy alto."
   ]
  },
  {
   "cell_type": "markdown",
   "id": "9ef3edc3",
   "metadata": {},
   "source": [
    "# **CONCLUSIONES**\n",
    "\n",
    "Del analisis univariado realizado con la variable \"Unit Cost\" podemos concluir que:\n",
    "\n",
    "- La variable \"Unit Cost\" parece ser un factor importante para diferenciar entre los dos estados de la variable Objetivo \"target\".\n",
    "\n",
    "- Existe una clara diferencia entre los valores de la variable objetivo. Un \"Unit Cost\" bajo está fuertemente asociado con un Objetivo de 0, mientras que un \"Unit Cost\" más alto y con mucha más variabilidad está asociado con un Objetivo de 1.\n",
    "\n",
    "- La distribucion sergada que presenta la variable predictora, nos informa de la alta rotacion de productos de bajo valor y una baja rotacion de productos de mediano y alto valor.\n",
    "\n"
   ]
  }
 ],
 "metadata": {
  "kernelspec": {
   "display_name": "Python 3",
   "language": "python",
   "name": "python3"
  },
  "language_info": {
   "codemirror_mode": {
    "name": "ipython",
    "version": 3
   },
   "file_extension": ".py",
   "mimetype": "text/x-python",
   "name": "python",
   "nbconvert_exporter": "python",
   "pygments_lexer": "ipython3",
   "version": "3.13.7"
  }
 },
 "nbformat": 4,
 "nbformat_minor": 5
}
